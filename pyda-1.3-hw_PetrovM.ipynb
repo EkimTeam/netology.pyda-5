{
 "cells": [
  {
   "cell_type": "markdown",
   "metadata": {},
   "source": [
    "## Задание 1"
   ]
  },
  {
   "cell_type": "markdown",
   "metadata": {},
   "source": [
    "Дан список вида:"
   ]
  },
  {
   "cell_type": "code",
   "execution_count": 21,
   "metadata": {},
   "outputs": [],
   "source": [
    "data1 = [\n",
    "    [13, 25, 23, 34],\n",
    "    [45, 32, 44, 47],\n",
    "    [12, 33, 23, 95],\n",
    "    [13, 53, 34, 35]\n",
    "]"
   ]
  },
  {
   "cell_type": "markdown",
   "metadata": {},
   "source": [
    "Напишите функцию, которая возвращает сумму элементов на диагонали. Т. е. 13+32+23+35."
   ]
  },
  {
   "cell_type": "code",
   "execution_count": 22,
   "metadata": {},
   "outputs": [
    {
     "data": {
      "text/plain": [
       "103"
      ]
     },
     "execution_count": 22,
     "metadata": {},
     "output_type": "execute_result"
    }
   ],
   "source": [
    "def sum_diag(arr):\n",
    "    sum=0\n",
    "    for i in range(len(arr)):\n",
    "        sum+=arr[i][i]\n",
    "    return sum\n",
    "sum_diag(data1)"
   ]
  },
  {
   "cell_type": "markdown",
   "metadata": {},
   "source": [
    "## Задание 2"
   ]
  },
  {
   "cell_type": "markdown",
   "metadata": {},
   "source": [
    "Дан список чисел, часть из которых имеют строковый тип или содержат буквы. Напишите функцию, которая возвращает сумму квадратов элементов, которые могут быть числами."
   ]
  },
  {
   "cell_type": "code",
   "execution_count": 23,
   "metadata": {},
   "outputs": [],
   "source": [
    "data2 = [1, '5', 'abc', 20, '2']"
   ]
  },
  {
   "cell_type": "code",
   "execution_count": 25,
   "metadata": {},
   "outputs": [
    {
     "data": {
      "text/plain": [
       "430"
      ]
     },
     "execution_count": 25,
     "metadata": {},
     "output_type": "execute_result"
    }
   ],
   "source": [
    "def sum_sq_el(lst):\n",
    "    sum=0\n",
    "    for el in lst:\n",
    "        if str.isnumeric(str(el)):\n",
    "            sum+=int(el)**2\n",
    "    return sum\n",
    "sum_sq_el(data2)"
   ]
  },
  {
   "cell_type": "markdown",
   "metadata": {},
   "source": [
    "## Задание 3"
   ]
  },
  {
   "cell_type": "markdown",
   "metadata": {},
   "source": [
    "Напишите функцию, возвращающую сумму первых n чисел Фибоначчи."
   ]
  },
  {
   "cell_type": "code",
   "execution_count": 53,
   "metadata": {},
   "outputs": [
    {
     "data": {
      "text/plain": [
       "12"
      ]
     },
     "execution_count": 53,
     "metadata": {},
     "output_type": "execute_result"
    }
   ],
   "source": [
    "fibo = lambda n: 1 if (n==1 or n==2) else fibo(n-1)+fibo(n-2)\n",
    "\n",
    "def sum_fibo(n):\n",
    "    return sum([fibo(i+1) for i in range(n)])\n",
    "\n",
    "sum_fibo(5)"
   ]
  },
  {
   "cell_type": "code",
   "execution_count": 73,
   "metadata": {},
   "outputs": [
    {
     "data": {
      "text/plain": [
       "12"
      ]
     },
     "execution_count": 73,
     "metadata": {},
     "output_type": "execute_result"
    }
   ],
   "source": [
    "# способ решения через матрицы - https://habr.com/ru/post/449616/\n",
    "import numpy\n",
    "def sum_fibo_cool_matrix_method(n):\n",
    "    return sum([numpy.linalg.matrix_power(numpy.array([[0, 1], [1, 1]]), i+1)[0][1] for i in range(n)])\n",
    "\n",
    "sum_fibo_cool_matrix_method(5)"
   ]
  },
  {
   "cell_type": "markdown",
   "metadata": {},
   "source": [
    "## Задание 4"
   ]
  },
  {
   "cell_type": "markdown",
   "metadata": {},
   "source": [
    "Дан набор данных об обучении студентов на курсе программирования, который содержит: \n",
    "1) имя\n",
    "2) фамилию \n",
    "3) пол \n",
    "4) наличие у студента опыта в программировании \n",
    "5) набор оценок за домашние работы \n",
    "6) оценку за итоговую работу.\n",
    "\n",
    "Напишите программу, которая будет принимать команду от пользователя и возвращать соотвествующий результат.\n",
    "Список команд: \n",
    "1 - вывести на экран среднюю оценку за все ДЗ по группе и вывести на экран среднюю оценку за экзамен по группе;\n",
    "2 - вывести среднюю оценку за ДЗ и за экзамен по группе в разрезе пола студентов\n",
    "3 - вывести среднюю оценку за ДЗ и за экзамен в разрезе наличия опыта в программировании у студентов.\n",
    "\n",
    "Прогрмма должна быть полностью декомпозирована на функции (кроме объявления функций и вызова итоговой функции в реализации ничего быть не должно)."
   ]
  },
  {
   "cell_type": "code",
   "execution_count": 93,
   "metadata": {},
   "outputs": [],
   "source": [
    "students_list = [\n",
    "    {'name': 'Василий', 'surname': 'Теркин', 'sex': 'м', 'program_exp': True, 'grade': [8, 8, 9, 10, 9], 'exam': 9},\n",
    "    {'name': 'Мария', 'surname': 'Павлова', 'sex': 'ж', 'program_exp': True, 'grade': [7, 8, 9, 7, 9], 'exam': 8},\n",
    "    {'name': 'Ирина', 'surname': 'Андреева', 'sex': 'ж', 'program_exp': True, 'grade': [10, 9, 8, 10, 10], 'exam': 10},\n",
    "    {'name': 'Татьяна', 'surname': 'Сидорова', 'sex': 'ж', 'program_exp': True, 'grade': [7, 8, 8, 9, 8], 'exam': 8},\n",
    "    {'name': 'Иван', 'surname': 'Васильев', 'sex': 'ж', 'program_exp': True, 'grade': [9, 8, 9, 6, 9], 'exam': 10},\n",
    "    {'name': 'Роман', 'surname': 'Золотарев', 'sex': 'ж', 'program_exp': False, 'grade': [8, 9, 9, 6, 9], 'exam': 10}\n",
    "]"
   ]
  },
  {
   "cell_type": "code",
   "execution_count": 149,
   "metadata": {},
   "outputs": [
    {
     "name": "stdout",
     "output_type": "stream",
     "text": [
      "Введите команду, которую хотите использовать (command1, command2, command3): command2\n",
      "Введите признак пола для фильтрации (м, ж): ж\n",
      "(8.36, 9.2)\n"
     ]
    }
   ],
   "source": [
    "def command(list, is_sex=None, is_exp=None):\n",
    "    sum_grade=0\n",
    "    count_grade=0\n",
    "    sum_exam=0\n",
    "    count_exam=0\n",
    "    for i in range(len(list)):\n",
    "        if (is_sex!=None and list[i].get('sex')!=is_sex): continue\n",
    "        if (is_exp!=None and list[i].get('program_exp')!=is_exp): continue\n",
    "        sum_grade+=sum(list[i].get('grade'))\n",
    "        count_grade+=len(list[i].get('grade'))\n",
    "        sum_exam+=int(list[i].get('exam'))\n",
    "        count_exam+=1\n",
    "    return round(sum_grade/count_grade,2), round(sum_exam/count_exam,2)\n",
    "\n",
    "def choose_command():\n",
    "    com=input(\"Введите команду, которую хотите использовать (command1, command2, command3): \")\n",
    "    if (com==\"command1\"):\n",
    "        print(command(students_list, None, None))\n",
    "    elif(com==\"command2\"):\n",
    "        param1=input(\"Введите признак пола для фильтрации (м, ж): \")\n",
    "        if(param1==\"м\" or param1==\"ж\"):\n",
    "            print(command(students_list, param1, None))\n",
    "        else:\n",
    "            print(\"Введен некорентный параметр! Программа завершена.\")\n",
    "    elif(com==\"command3\"):\n",
    "        param2=input(\"Введите признак наличия опыта в программировании для фильтрации (да, нет): \")\n",
    "        if(param2==\"да\" or param2==\"нет\"):\n",
    "            if (param2==\"да\"):\n",
    "                print(command(students_list, None, True))\n",
    "            else:\n",
    "                print(command(students_list, None, False))\n",
    "        else:\n",
    "            print(\"Введен некорентный параметр! Программа завершена.\")\n",
    "    else:\n",
    "        print(\"Введена некорентная команда! Программа завершена.\")\n",
    "\n",
    "choose_command()"
   ]
  }
 ],
 "metadata": {
  "kernelspec": {
   "display_name": "Python 3",
   "language": "python",
   "name": "python3"
  },
  "language_info": {
   "codemirror_mode": {
    "name": "ipython",
    "version": 3
   },
   "file_extension": ".py",
   "mimetype": "text/x-python",
   "name": "python",
   "nbconvert_exporter": "python",
   "pygments_lexer": "ipython3",
   "version": "3.7.3"
  }
 },
 "nbformat": 4,
 "nbformat_minor": 2
}
