{
 "cells": [
  {
   "cell_type": "markdown",
   "metadata": {},
   "source": [
    "## Задание 1"
   ]
  },
  {
   "cell_type": "markdown",
   "metadata": {},
   "source": [
    "Напишите функцию date_range, которая возвращает список дней между датами start_date и end_date.   \n",
    "Даты должны вводиться в формате YYYY-MM-DD."
   ]
  },
  {
   "cell_type": "code",
   "execution_count": 14,
   "metadata": {},
   "outputs": [],
   "source": [
    "from datetime import datetime\n",
    "from datetime import timedelta"
   ]
  },
  {
   "cell_type": "code",
   "execution_count": 65,
   "metadata": {},
   "outputs": [
    {
     "data": {
      "text/plain": [
       "[4, 5, 6, 7, 8, 9, 10]"
      ]
     },
     "execution_count": 65,
     "metadata": {},
     "output_type": "execute_result"
    }
   ],
   "source": [
    "#граничные даты включаются в итоговый список\n",
    "def date_range(start_date, end_date):\n",
    "    days_list = []\n",
    "    date_start = datetime.date(datetime.strptime( start_date, '%Y-%m-%d' ))\n",
    "    date_end = datetime.date(datetime.strptime( end_date, '%Y-%m-%d' ))\n",
    "    for i in range((date_end-date_start).days+1):\n",
    "        day = date_start+timedelta(days=i)\n",
    "        days_list.append(day.day)\n",
    "    return days_list\n",
    "\n",
    "date_range('2019-08-04', '2019-08-10')"
   ]
  },
  {
   "cell_type": "markdown",
   "metadata": {},
   "source": [
    "## Задание 2"
   ]
  },
  {
   "cell_type": "markdown",
   "metadata": {},
   "source": [
    "Дополните функцию из первого задания проверкой на корректность дат.  \n",
    "В случае неверного формата или если start_date > end_date должен возвращаться пустой список."
   ]
  },
  {
   "cell_type": "code",
   "execution_count": 72,
   "metadata": {},
   "outputs": [
    {
     "data": {
      "text/plain": [
       "[29, 30, 31, 1, 2]"
      ]
     },
     "execution_count": 72,
     "metadata": {},
     "output_type": "execute_result"
    }
   ],
   "source": [
    "def date_range(start_date, end_date):\n",
    "    try:\n",
    "        date_start = datetime.date(datetime.strptime( start_date, '%Y-%m-%d' ))\n",
    "        date_end = datetime.date(datetime.strptime( end_date, '%Y-%m-%d' ))\n",
    "    except:\n",
    "        print('Формат даты не соответсвует формату YYYY-MM-DD или дата задана неверно')\n",
    "        return None\n",
    "    if start_date > end_date:\n",
    "        print('Некоректные значения: начальная дата больше конечной')\n",
    "        return None\n",
    "    days_list = []\n",
    "    for i in range((date_end-date_start).days+1):\n",
    "        day = date_start+timedelta(days=i)\n",
    "        days_list.append(day.day)\n",
    "    return days_list\n",
    "\n",
    "date_range('2019-07-29', '2019-08-02')"
   ]
  },
  {
   "cell_type": "markdown",
   "metadata": {},
   "source": [
    "## Задание 3"
   ]
  },
  {
   "cell_type": "markdown",
   "metadata": {},
   "source": [
    "Дан поток дат в формате YYYY-MM-DD, в которых встречаются некорректные значения:  \n",
    "stream = ['2018-04-02', '2018-02-29', '2018-19-02']  \n",
    "Напишите функцию, которая проверяет эти даты на корректность. Т. е. для каждой даты возвращает True (дата корректна) или False (некорректная дата). "
   ]
  },
  {
   "cell_type": "code",
   "execution_count": 73,
   "metadata": {},
   "outputs": [
    {
     "data": {
      "text/plain": [
       "[True, False, False]"
      ]
     },
     "execution_count": 73,
     "metadata": {},
     "output_type": "execute_result"
    }
   ],
   "source": [
    "def check_date(list_date):\n",
    "    check_list = []\n",
    "    for dt in list_date:\n",
    "        try:\n",
    "            date_ = datetime.strptime( dt, '%Y-%m-%d' )\n",
    "        except:\n",
    "            check_list.append(False)\n",
    "            continue\n",
    "        check_list.append(True)\n",
    "    return check_list\n",
    "\n",
    "stream = ['2018-04-02', '2018-02-29', '2018-19-02']\n",
    "check_date(stream)"
   ]
  },
  {
   "cell_type": "markdown",
   "metadata": {},
   "source": [
    "## Задание 4"
   ]
  },
  {
   "cell_type": "markdown",
   "metadata": {},
   "source": [
    "В последнем примере поиска по словарю мы использовали 3 столбца. Напишите функцию, которая формирует словарь для поиска по n столбцам."
   ]
  },
  {
   "cell_type": "code",
   "execution_count": 133,
   "metadata": {},
   "outputs": [],
   "source": [
    "def dict_with_n_col(name_file, n):\n",
    "    stats_dict = {}\n",
    "    with open(name_file) as f:\n",
    "        for line in f:\n",
    "            line = line.strip().split(',')\n",
    "            length=len(line)\n",
    "            if length<=n:\n",
    "                print (f'Неверный формат входных данных: потенциальных столбцов меньше чем {n} штук')\n",
    "                return\n",
    "            if n==1:\n",
    "                stats_dict[line[0]]=line[n:length]\n",
    "            else:    \n",
    "                stats_dict[tuple(line[:n])] = line[n:length]\n",
    "    return stats_dict\n",
    "\n",
    "stats_dict=dict_with_n_col('stats.csv', 2)"
   ]
  },
  {
   "cell_type": "code",
   "execution_count": 134,
   "metadata": {},
   "outputs": [
    {
     "name": "stdout",
     "output_type": "stream",
     "text": [
      "('14', '26376') ['3', '13301']\n"
     ]
    }
   ],
   "source": [
    "for key, value in stats_dict.items():\n",
    "    print(key, value)\n",
    "    break"
   ]
  }
 ],
 "metadata": {
  "kernelspec": {
   "display_name": "Python 3",
   "language": "python",
   "name": "python3"
  },
  "language_info": {
   "codemirror_mode": {
    "name": "ipython",
    "version": 3
   },
   "file_extension": ".py",
   "mimetype": "text/x-python",
   "name": "python",
   "nbconvert_exporter": "python",
   "pygments_lexer": "ipython3",
   "version": "3.7.3"
  }
 },
 "nbformat": 4,
 "nbformat_minor": 2
}
