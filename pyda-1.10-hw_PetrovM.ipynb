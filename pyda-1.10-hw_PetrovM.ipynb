{
 "cells": [
  {
   "cell_type": "code",
   "execution_count": 177,
   "metadata": {},
   "outputs": [
    {
     "data": {
      "text/html": [
       "        <script type=\"text/javascript\">\n",
       "        window.PlotlyConfig = {MathJaxConfig: 'local'};\n",
       "        if (window.MathJax) {MathJax.Hub.Config({SVG: {font: \"STIX-Web\"}});}\n",
       "        if (typeof require !== 'undefined') {\n",
       "        require.undef(\"plotly\");\n",
       "        requirejs.config({\n",
       "            paths: {\n",
       "                'plotly': ['https://cdn.plot.ly/plotly-latest.min']\n",
       "            }\n",
       "        });\n",
       "        require(['plotly'], function(Plotly) {\n",
       "            window._Plotly = Plotly;\n",
       "        });\n",
       "        }\n",
       "        </script>\n",
       "        "
      ]
     },
     "metadata": {},
     "output_type": "display_data"
    }
   ],
   "source": [
    "import pandas as pd\n",
    "import numpy as np\n",
    "from datetime import datetime\n",
    "import matplotlib.pyplot as plt\n",
    "import seaborn as sns\n",
    "from plotly.offline import init_notebook_mode, iplot\n",
    "import plotly\n",
    "import plotly.graph_objs as go\n",
    "\n",
    "init_notebook_mode(connected=True)"
   ]
  },
  {
   "cell_type": "code",
   "execution_count": 25,
   "metadata": {
    "scrolled": true
   },
   "outputs": [
    {
     "data": {
      "text/html": [
       "<div>\n",
       "<style scoped>\n",
       "    .dataframe tbody tr th:only-of-type {\n",
       "        vertical-align: middle;\n",
       "    }\n",
       "\n",
       "    .dataframe tbody tr th {\n",
       "        vertical-align: top;\n",
       "    }\n",
       "\n",
       "    .dataframe thead th {\n",
       "        text-align: right;\n",
       "    }\n",
       "</style>\n",
       "<table border=\"1\" class=\"dataframe\">\n",
       "  <thead>\n",
       "    <tr style=\"text-align: right;\">\n",
       "      <th></th>\n",
       "      <th>Year</th>\n",
       "      <th>Player</th>\n",
       "      <th>Pos</th>\n",
       "      <th>Age</th>\n",
       "      <th>Tm</th>\n",
       "      <th>G</th>\n",
       "      <th>GS</th>\n",
       "      <th>MP</th>\n",
       "      <th>PER</th>\n",
       "      <th>TS%</th>\n",
       "      <th>...</th>\n",
       "      <th>FT%</th>\n",
       "      <th>ORB</th>\n",
       "      <th>DRB</th>\n",
       "      <th>TRB</th>\n",
       "      <th>AST</th>\n",
       "      <th>STL</th>\n",
       "      <th>BLK</th>\n",
       "      <th>TOV</th>\n",
       "      <th>PF</th>\n",
       "      <th>PTS</th>\n",
       "    </tr>\n",
       "  </thead>\n",
       "  <tbody>\n",
       "    <tr>\n",
       "      <th>24686</th>\n",
       "      <td>2017.0</td>\n",
       "      <td>Cody Zeller</td>\n",
       "      <td>PF</td>\n",
       "      <td>24.0</td>\n",
       "      <td>CHO</td>\n",
       "      <td>62.0</td>\n",
       "      <td>58.0</td>\n",
       "      <td>1725.0</td>\n",
       "      <td>16.7</td>\n",
       "      <td>0.604</td>\n",
       "      <td>...</td>\n",
       "      <td>0.679</td>\n",
       "      <td>135.0</td>\n",
       "      <td>270.0</td>\n",
       "      <td>405.0</td>\n",
       "      <td>99.0</td>\n",
       "      <td>62.0</td>\n",
       "      <td>58.0</td>\n",
       "      <td>65.0</td>\n",
       "      <td>189.0</td>\n",
       "      <td>639.0</td>\n",
       "    </tr>\n",
       "    <tr>\n",
       "      <th>24687</th>\n",
       "      <td>2017.0</td>\n",
       "      <td>Tyler Zeller</td>\n",
       "      <td>C</td>\n",
       "      <td>27.0</td>\n",
       "      <td>BOS</td>\n",
       "      <td>51.0</td>\n",
       "      <td>5.0</td>\n",
       "      <td>525.0</td>\n",
       "      <td>13.0</td>\n",
       "      <td>0.508</td>\n",
       "      <td>...</td>\n",
       "      <td>0.564</td>\n",
       "      <td>43.0</td>\n",
       "      <td>81.0</td>\n",
       "      <td>124.0</td>\n",
       "      <td>42.0</td>\n",
       "      <td>7.0</td>\n",
       "      <td>21.0</td>\n",
       "      <td>20.0</td>\n",
       "      <td>61.0</td>\n",
       "      <td>178.0</td>\n",
       "    </tr>\n",
       "    <tr>\n",
       "      <th>24688</th>\n",
       "      <td>2017.0</td>\n",
       "      <td>Stephen Zimmerman</td>\n",
       "      <td>C</td>\n",
       "      <td>20.0</td>\n",
       "      <td>ORL</td>\n",
       "      <td>19.0</td>\n",
       "      <td>0.0</td>\n",
       "      <td>108.0</td>\n",
       "      <td>7.3</td>\n",
       "      <td>0.346</td>\n",
       "      <td>...</td>\n",
       "      <td>0.600</td>\n",
       "      <td>11.0</td>\n",
       "      <td>24.0</td>\n",
       "      <td>35.0</td>\n",
       "      <td>4.0</td>\n",
       "      <td>2.0</td>\n",
       "      <td>5.0</td>\n",
       "      <td>3.0</td>\n",
       "      <td>17.0</td>\n",
       "      <td>23.0</td>\n",
       "    </tr>\n",
       "    <tr>\n",
       "      <th>24689</th>\n",
       "      <td>2017.0</td>\n",
       "      <td>Paul Zipser</td>\n",
       "      <td>SF</td>\n",
       "      <td>22.0</td>\n",
       "      <td>CHI</td>\n",
       "      <td>44.0</td>\n",
       "      <td>18.0</td>\n",
       "      <td>843.0</td>\n",
       "      <td>6.9</td>\n",
       "      <td>0.503</td>\n",
       "      <td>...</td>\n",
       "      <td>0.775</td>\n",
       "      <td>15.0</td>\n",
       "      <td>110.0</td>\n",
       "      <td>125.0</td>\n",
       "      <td>36.0</td>\n",
       "      <td>15.0</td>\n",
       "      <td>16.0</td>\n",
       "      <td>40.0</td>\n",
       "      <td>78.0</td>\n",
       "      <td>240.0</td>\n",
       "    </tr>\n",
       "    <tr>\n",
       "      <th>24690</th>\n",
       "      <td>2017.0</td>\n",
       "      <td>Ivica Zubac</td>\n",
       "      <td>C</td>\n",
       "      <td>19.0</td>\n",
       "      <td>LAL</td>\n",
       "      <td>38.0</td>\n",
       "      <td>11.0</td>\n",
       "      <td>609.0</td>\n",
       "      <td>17.0</td>\n",
       "      <td>0.547</td>\n",
       "      <td>...</td>\n",
       "      <td>0.653</td>\n",
       "      <td>41.0</td>\n",
       "      <td>118.0</td>\n",
       "      <td>159.0</td>\n",
       "      <td>30.0</td>\n",
       "      <td>14.0</td>\n",
       "      <td>33.0</td>\n",
       "      <td>30.0</td>\n",
       "      <td>66.0</td>\n",
       "      <td>284.0</td>\n",
       "    </tr>\n",
       "  </tbody>\n",
       "</table>\n",
       "<p>5 rows × 52 columns</p>\n",
       "</div>"
      ],
      "text/plain": [
       "         Year             Player Pos   Age   Tm     G    GS      MP   PER  \\\n",
       "24686  2017.0        Cody Zeller  PF  24.0  CHO  62.0  58.0  1725.0  16.7   \n",
       "24687  2017.0       Tyler Zeller   C  27.0  BOS  51.0   5.0   525.0  13.0   \n",
       "24688  2017.0  Stephen Zimmerman   C  20.0  ORL  19.0   0.0   108.0   7.3   \n",
       "24689  2017.0        Paul Zipser  SF  22.0  CHI  44.0  18.0   843.0   6.9   \n",
       "24690  2017.0        Ivica Zubac   C  19.0  LAL  38.0  11.0   609.0  17.0   \n",
       "\n",
       "         TS%  ...    FT%    ORB    DRB    TRB   AST   STL   BLK   TOV     PF  \\\n",
       "24686  0.604  ...  0.679  135.0  270.0  405.0  99.0  62.0  58.0  65.0  189.0   \n",
       "24687  0.508  ...  0.564   43.0   81.0  124.0  42.0   7.0  21.0  20.0   61.0   \n",
       "24688  0.346  ...  0.600   11.0   24.0   35.0   4.0   2.0   5.0   3.0   17.0   \n",
       "24689  0.503  ...  0.775   15.0  110.0  125.0  36.0  15.0  16.0  40.0   78.0   \n",
       "24690  0.547  ...  0.653   41.0  118.0  159.0  30.0  14.0  33.0  30.0   66.0   \n",
       "\n",
       "         PTS  \n",
       "24686  639.0  \n",
       "24687  178.0  \n",
       "24688   23.0  \n",
       "24689  240.0  \n",
       "24690  284.0  \n",
       "\n",
       "[5 rows x 52 columns]"
      ]
     },
     "execution_count": 25,
     "metadata": {},
     "output_type": "execute_result"
    }
   ],
   "source": [
    "stats = pd.read_csv('Seasons_Stats.csv', sep = ',', index_col=0)\n",
    "stats.tail()"
   ]
  },
  {
   "cell_type": "markdown",
   "metadata": {},
   "source": [
    "### График 1\n",
    "Посмотрим на игроков, которые набрали больше всего очков за свою карьеру. Первые 2 места с заметным отрывом занимают Kareem Abdul-Jabbar и Karl Malone"
   ]
  },
  {
   "cell_type": "code",
   "execution_count": 56,
   "metadata": {
    "scrolled": false
   },
   "outputs": [
    {
     "data": {
      "text/html": [
       "<style  type=\"text/css\" >\n",
       "    #T_d0034fe2_d721_11e9_88c9_9829a63298b7row0_col0 {\n",
       "            width:  10em;\n",
       "             height:  80%;\n",
       "            background:  linear-gradient(90deg,#d65f5f 100.0%, transparent 100.0%);\n",
       "        }    #T_d0034fe2_d721_11e9_88c9_9829a63298b7row1_col0 {\n",
       "            width:  10em;\n",
       "             height:  80%;\n",
       "            background:  linear-gradient(90deg,#d65f5f 85.1%, transparent 85.1%);\n",
       "        }    #T_d0034fe2_d721_11e9_88c9_9829a63298b7row2_col0 {\n",
       "            width:  10em;\n",
       "             height:  80%;\n",
       "            background:  linear-gradient(90deg,#d65f5f 54.7%, transparent 54.7%);\n",
       "        }    #T_d0034fe2_d721_11e9_88c9_9829a63298b7row3_col0 {\n",
       "            width:  10em;\n",
       "             height:  80%;\n",
       "            background:  linear-gradient(90deg,#d65f5f 51.6%, transparent 51.6%);\n",
       "        }    #T_d0034fe2_d721_11e9_88c9_9829a63298b7row4_col0 {\n",
       "            width:  10em;\n",
       "             height:  80%;\n",
       "            background:  linear-gradient(90deg,#d65f5f 37.8%, transparent 37.8%);\n",
       "        }    #T_d0034fe2_d721_11e9_88c9_9829a63298b7row5_col0 {\n",
       "            width:  10em;\n",
       "             height:  80%;\n",
       "            background:  linear-gradient(90deg,#d65f5f 33.3%, transparent 33.3%);\n",
       "        }    #T_d0034fe2_d721_11e9_88c9_9829a63298b7row6_col0 {\n",
       "            width:  10em;\n",
       "             height:  80%;\n",
       "            background:  linear-gradient(90deg,#d65f5f 17.0%, transparent 17.0%);\n",
       "        }    #T_d0034fe2_d721_11e9_88c9_9829a63298b7row7_col0 {\n",
       "            width:  10em;\n",
       "             height:  80%;\n",
       "            background:  linear-gradient(90deg,#d65f5f 8.5%, transparent 8.5%);\n",
       "        }    #T_d0034fe2_d721_11e9_88c9_9829a63298b7row8_col0 {\n",
       "            width:  10em;\n",
       "             height:  80%;\n",
       "            background:  linear-gradient(90deg,#d65f5f 2.0%, transparent 2.0%);\n",
       "        }    #T_d0034fe2_d721_11e9_88c9_9829a63298b7row9_col0 {\n",
       "            width:  10em;\n",
       "             height:  80%;\n",
       "        }</style><table id=\"T_d0034fe2_d721_11e9_88c9_9829a63298b7\" ><thead>    <tr>        <th class=\"blank level0\" ></th>        <th class=\"col_heading level0 col0\" >PTS</th>    </tr>    <tr>        <th class=\"index_name level0\" >Player</th>        <th class=\"blank\" ></th>    </tr></thead><tbody>\n",
       "                <tr>\n",
       "                        <th id=\"T_d0034fe2_d721_11e9_88c9_9829a63298b7level0_row0\" class=\"row_heading level0 row0\" >Kareem Abdul-Jabbar*</th>\n",
       "                        <td id=\"T_d0034fe2_d721_11e9_88c9_9829a63298b7row0_col0\" class=\"data row0 col0\" >38387</td>\n",
       "            </tr>\n",
       "            <tr>\n",
       "                        <th id=\"T_d0034fe2_d721_11e9_88c9_9829a63298b7level0_row1\" class=\"row_heading level0 row1\" >Karl Malone*</th>\n",
       "                        <td id=\"T_d0034fe2_d721_11e9_88c9_9829a63298b7row1_col0\" class=\"data row1 col0\" >36928</td>\n",
       "            </tr>\n",
       "            <tr>\n",
       "                        <th id=\"T_d0034fe2_d721_11e9_88c9_9829a63298b7level0_row2\" class=\"row_heading level0 row2\" >Wilt Chamberlain*</th>\n",
       "                        <td id=\"T_d0034fe2_d721_11e9_88c9_9829a63298b7row2_col0\" class=\"data row2 col0\" >33953</td>\n",
       "            </tr>\n",
       "            <tr>\n",
       "                        <th id=\"T_d0034fe2_d721_11e9_88c9_9829a63298b7level0_row3\" class=\"row_heading level0 row3\" >Kobe Bryant</th>\n",
       "                        <td id=\"T_d0034fe2_d721_11e9_88c9_9829a63298b7row3_col0\" class=\"data row3 col0\" >33643</td>\n",
       "            </tr>\n",
       "            <tr>\n",
       "                        <th id=\"T_d0034fe2_d721_11e9_88c9_9829a63298b7level0_row4\" class=\"row_heading level0 row4\" >Michael Jordan*</th>\n",
       "                        <td id=\"T_d0034fe2_d721_11e9_88c9_9829a63298b7row4_col0\" class=\"data row4 col0\" >32292</td>\n",
       "            </tr>\n",
       "            <tr>\n",
       "                        <th id=\"T_d0034fe2_d721_11e9_88c9_9829a63298b7level0_row5\" class=\"row_heading level0 row5\" >Eddie Johnson</th>\n",
       "                        <td id=\"T_d0034fe2_d721_11e9_88c9_9829a63298b7row5_col0\" class=\"data row5 col0\" >31852</td>\n",
       "            </tr>\n",
       "            <tr>\n",
       "                        <th id=\"T_d0034fe2_d721_11e9_88c9_9829a63298b7level0_row6\" class=\"row_heading level0 row6\" >Dirk Nowitzki</th>\n",
       "                        <td id=\"T_d0034fe2_d721_11e9_88c9_9829a63298b7row6_col0\" class=\"data row6 col0\" >30260</td>\n",
       "            </tr>\n",
       "            <tr>\n",
       "                        <th id=\"T_d0034fe2_d721_11e9_88c9_9829a63298b7level0_row7\" class=\"row_heading level0 row7\" >Shaquille O'Neal*</th>\n",
       "                        <td id=\"T_d0034fe2_d721_11e9_88c9_9829a63298b7row7_col0\" class=\"data row7 col0\" >29428</td>\n",
       "            </tr>\n",
       "            <tr>\n",
       "                        <th id=\"T_d0034fe2_d721_11e9_88c9_9829a63298b7level0_row8\" class=\"row_heading level0 row8\" >LeBron James</th>\n",
       "                        <td id=\"T_d0034fe2_d721_11e9_88c9_9829a63298b7row8_col0\" class=\"data row8 col0\" >28787</td>\n",
       "            </tr>\n",
       "            <tr>\n",
       "                        <th id=\"T_d0034fe2_d721_11e9_88c9_9829a63298b7level0_row9\" class=\"row_heading level0 row9\" >Dominique Wilkins*</th>\n",
       "                        <td id=\"T_d0034fe2_d721_11e9_88c9_9829a63298b7row9_col0\" class=\"data row9 col0\" >28591</td>\n",
       "            </tr>\n",
       "    </tbody></table>"
      ],
      "text/plain": [
       "<pandas.io.formats.style.Styler at 0x183c3d2ab38>"
      ]
     },
     "execution_count": 56,
     "metadata": {},
     "output_type": "execute_result"
    }
   ],
   "source": [
    "best = stats.groupby(['Player'])[['PTS']].sum().sort_values('PTS', ascending=False)\n",
    "best.head(10).style.bar()"
   ]
  },
  {
   "cell_type": "markdown",
   "metadata": {},
   "source": [
    "Посмотрим какие клубы набрали больше всего очков за время своего существования. Первые 2 места с серьезным отрывом занимают Boston Celtics и New York Knick.   \n",
    "Примечание: сумма очков клуба складывается из суммы очков их игроков, но есть игроки, которые за сезон сыграли в нескольких клубах. Такие игроки помечены как 'TOT' и не учитываются при подсчете суммы очков."
   ]
  },
  {
   "cell_type": "code",
   "execution_count": 228,
   "metadata": {
    "scrolled": true
   },
   "outputs": [
    {
     "data": {
      "text/html": [
       "<style  type=\"text/css\" >\n",
       "    #T_d20fa892_d795_11e9_b5c6_9829a63298b7row0_col0 {\n",
       "            width:  10em;\n",
       "             height:  80%;\n",
       "            background:  linear-gradient(90deg,#d65f5f 100.0%, transparent 100.0%);\n",
       "        }    #T_d20fa892_d795_11e9_b5c6_9829a63298b7row1_col0 {\n",
       "            width:  10em;\n",
       "             height:  80%;\n",
       "            background:  linear-gradient(90deg,#d65f5f 89.8%, transparent 89.8%);\n",
       "        }    #T_d20fa892_d795_11e9_b5c6_9829a63298b7row2_col0 {\n",
       "            width:  10em;\n",
       "             height:  80%;\n",
       "            background:  linear-gradient(90deg,#d65f5f 61.2%, transparent 61.2%);\n",
       "        }    #T_d20fa892_d795_11e9_b5c6_9829a63298b7row3_col0 {\n",
       "            width:  10em;\n",
       "             height:  80%;\n",
       "            background:  linear-gradient(90deg,#d65f5f 59.5%, transparent 59.5%);\n",
       "        }    #T_d20fa892_d795_11e9_b5c6_9829a63298b7row4_col0 {\n",
       "            width:  10em;\n",
       "             height:  80%;\n",
       "            background:  linear-gradient(90deg,#d65f5f 34.3%, transparent 34.3%);\n",
       "        }    #T_d20fa892_d795_11e9_b5c6_9829a63298b7row5_col0 {\n",
       "            width:  10em;\n",
       "             height:  80%;\n",
       "            background:  linear-gradient(90deg,#d65f5f 16.7%, transparent 16.7%);\n",
       "        }    #T_d20fa892_d795_11e9_b5c6_9829a63298b7row6_col0 {\n",
       "            width:  10em;\n",
       "             height:  80%;\n",
       "            background:  linear-gradient(90deg,#d65f5f 14.0%, transparent 14.0%);\n",
       "        }    #T_d20fa892_d795_11e9_b5c6_9829a63298b7row7_col0 {\n",
       "            width:  10em;\n",
       "             height:  80%;\n",
       "            background:  linear-gradient(90deg,#d65f5f 8.4%, transparent 8.4%);\n",
       "        }    #T_d20fa892_d795_11e9_b5c6_9829a63298b7row8_col0 {\n",
       "            width:  10em;\n",
       "             height:  80%;\n",
       "            background:  linear-gradient(90deg,#d65f5f 5.3%, transparent 5.3%);\n",
       "        }    #T_d20fa892_d795_11e9_b5c6_9829a63298b7row9_col0 {\n",
       "            width:  10em;\n",
       "             height:  80%;\n",
       "        }</style><table id=\"T_d20fa892_d795_11e9_b5c6_9829a63298b7\" ><thead>    <tr>        <th class=\"blank level0\" ></th>        <th class=\"col_heading level0 col0\" >PTS</th>    </tr>    <tr>        <th class=\"index_name level0\" >Tm</th>        <th class=\"blank\" ></th>    </tr></thead><tbody>\n",
       "                <tr>\n",
       "                        <th id=\"T_d20fa892_d795_11e9_b5c6_9829a63298b7level0_row0\" class=\"row_heading level0 row0\" >BOS</th>\n",
       "                        <td id=\"T_d20fa892_d795_11e9_b5c6_9829a63298b7row0_col0\" class=\"data row0 col0\" >568808</td>\n",
       "            </tr>\n",
       "            <tr>\n",
       "                        <th id=\"T_d20fa892_d795_11e9_b5c6_9829a63298b7level0_row1\" class=\"row_heading level0 row1\" >NYK</th>\n",
       "                        <td id=\"T_d20fa892_d795_11e9_b5c6_9829a63298b7row1_col0\" class=\"data row1 col0\" >551292</td>\n",
       "            </tr>\n",
       "            <tr>\n",
       "                        <th id=\"T_d20fa892_d795_11e9_b5c6_9829a63298b7level0_row2\" class=\"row_heading level0 row2\" >DET</th>\n",
       "                        <td id=\"T_d20fa892_d795_11e9_b5c6_9829a63298b7row2_col0\" class=\"data row2 col0\" >502184</td>\n",
       "            </tr>\n",
       "            <tr>\n",
       "                        <th id=\"T_d20fa892_d795_11e9_b5c6_9829a63298b7level0_row3\" class=\"row_heading level0 row3\" >LAL</th>\n",
       "                        <td id=\"T_d20fa892_d795_11e9_b5c6_9829a63298b7row3_col0\" class=\"data row3 col0\" >499158</td>\n",
       "            </tr>\n",
       "            <tr>\n",
       "                        <th id=\"T_d20fa892_d795_11e9_b5c6_9829a63298b7level0_row4\" class=\"row_heading level0 row4\" >PHI</th>\n",
       "                        <td id=\"T_d20fa892_d795_11e9_b5c6_9829a63298b7row4_col0\" class=\"data row4 col0\" >455930</td>\n",
       "            </tr>\n",
       "            <tr>\n",
       "                        <th id=\"T_d20fa892_d795_11e9_b5c6_9829a63298b7level0_row5\" class=\"row_heading level0 row5\" >PHO</th>\n",
       "                        <td id=\"T_d20fa892_d795_11e9_b5c6_9829a63298b7row5_col0\" class=\"data row5 col0\" >425714</td>\n",
       "            </tr>\n",
       "            <tr>\n",
       "                        <th id=\"T_d20fa892_d795_11e9_b5c6_9829a63298b7level0_row6\" class=\"row_heading level0 row6\" >CHI</th>\n",
       "                        <td id=\"T_d20fa892_d795_11e9_b5c6_9829a63298b7row6_col0\" class=\"data row6 col0\" >421015</td>\n",
       "            </tr>\n",
       "            <tr>\n",
       "                        <th id=\"T_d20fa892_d795_11e9_b5c6_9829a63298b7level0_row7\" class=\"row_heading level0 row7\" >MIL</th>\n",
       "                        <td id=\"T_d20fa892_d795_11e9_b5c6_9829a63298b7row7_col0\" class=\"data row7 col0\" >411451</td>\n",
       "            </tr>\n",
       "            <tr>\n",
       "                        <th id=\"T_d20fa892_d795_11e9_b5c6_9829a63298b7level0_row8\" class=\"row_heading level0 row8\" >ATL</th>\n",
       "                        <td id=\"T_d20fa892_d795_11e9_b5c6_9829a63298b7row8_col0\" class=\"data row8 col0\" >406220</td>\n",
       "            </tr>\n",
       "            <tr>\n",
       "                        <th id=\"T_d20fa892_d795_11e9_b5c6_9829a63298b7level0_row9\" class=\"row_heading level0 row9\" >POR</th>\n",
       "                        <td id=\"T_d20fa892_d795_11e9_b5c6_9829a63298b7row9_col0\" class=\"data row9 col0\" >397044</td>\n",
       "            </tr>\n",
       "    </tbody></table>"
      ],
      "text/plain": [
       "<pandas.io.formats.style.Styler at 0x183cdeed160>"
      ]
     },
     "execution_count": 228,
     "metadata": {},
     "output_type": "execute_result"
    }
   ],
   "source": [
    "besttmm = stats[stats['Tm']!='TOT'].groupby(['Tm'])[['PTS']].sum().sort_values('PTS', ascending=False)\n",
    "besttmm.head(10).style.bar()"
   ]
  },
  {
   "cell_type": "markdown",
   "metadata": {},
   "source": [
    "### График 2\n",
    "Посмотрим на средний возраст игроков Лиги в прошлом веке и в этом веке. Можно сделать вывод, что основную массу игроков составляют в возрасте 21-30 лет, при это в 21 веке можно сделать вывод о небольшом омоложении основной массы игроков в 1 год."
   ]
  },
  {
   "cell_type": "code",
   "execution_count": 232,
   "metadata": {},
   "outputs": [
    {
     "data": {
      "text/plain": [
       "<matplotlib.axes._subplots.AxesSubplot at 0x183cdcb84a8>"
      ]
     },
     "execution_count": 232,
     "metadata": {},
     "output_type": "execute_result"
    },
    {
     "data": {
      "image/png": "[encoded data removed]",
      "text/plain": [
       "<Figure size 432x288 with 1 Axes>"
      ]
     },
     "metadata": {
      "needs_background": "light"
     },
     "output_type": "display_data"
    }
   ],
   "source": [
    "stats[stats['Year']<=2000]['Age'].hist(bins = 25)\n",
    "stats[stats['Year']>2000]['Age'].hist(bins = 25)"
   ]
  },
  {
   "cell_type": "markdown",
   "metadata": {},
   "source": [
    "### График 3\n",
    "Посмотрим сколько в среднем в лиге в год команды забивали очков. Заметно что до 70х годов команды забивали всё больше с каждым сезеном, а с 70х годов команды стали забивать меньше очков. Это скорее всего связано с развитием тактических схем в баскетболе и с большим акцентом на защите. После 2004г опять наблюдается рост результативности. Это в первую очередь связано с требованием бизнеса к повышению зрелещности.  \n",
    "Провалы в статистики в 1999 и 2012 связаны с локаутом игроков в лиге, когда часть сезона была отменена."
   ]
  },
  {
   "cell_type": "code",
   "execution_count": 140,
   "metadata": {},
   "outputs": [
    {
     "data": {
      "text/plain": [
       "<matplotlib.axes._subplots.AxesSubplot at 0x183c7583400>"
      ]
     },
     "execution_count": 140,
     "metadata": {},
     "output_type": "execute_result"
    },
    {
     "data": {
      "image/png": "[encoded data removed]",
      "text/plain": [
       "<Figure size 432x288 with 1 Axes>"
      ]
     },
     "metadata": {
      "needs_background": "light"
     },
     "output_type": "display_data"
    }
   ],
   "source": [
    "besttm1 = stats[stats['Tm']!='TOT'].groupby(['Year'])[['PTS']].sum()\n",
    "besttm2 = stats[stats['Tm']!='TOT'].groupby(['Year'])[['Tm']].nunique()\n",
    "result = pd.concat([besttm1, besttm2], axis=1).reindex(besttm1.index)\n",
    "(result['PTS']/result['Tm']).plot()\n"
   ]
  },
  {
   "cell_type": "markdown",
   "metadata": {},
   "source": [
    "### График 4\n",
    "Определим 5 команд, которые в 21 веке забивали больше всех очков и посмотрим на их тенденцию. Заметно, что Golden State Warriors в последние годы забивает гораздо больше своих оппонетов."
   ]
  },
  {
   "cell_type": "code",
   "execution_count": 207,
   "metadata": {
    "collapsed": true
   },
   "outputs": [
    {
     "name": "stderr",
     "output_type": "stream",
     "text": [
      "D:\\Program Files\\Anaconda3\\lib\\site-packages\\ipykernel_launcher.py:1: UserWarning:\n",
      "\n",
      "Boolean Series key will be reindexed to match DataFrame index.\n",
      "\n",
      "D:\\Program Files\\Anaconda3\\lib\\site-packages\\ipykernel_launcher.py:3: UserWarning:\n",
      "\n",
      "Boolean Series key will be reindexed to match DataFrame index.\n",
      "\n"
     ]
    }
   ],
   "source": [
    "besttm = stats[stats['Tm']!='TOT'][stats['Year']>2000].groupby(['Tm'])[['PTS']].sum().sort_values('PTS', ascending=False).head(5)\n",
    "besttm\n",
    "besttm = pd.pivot_table(stats[stats['Tm'].isin(besttm.index)][stats['Year']>2000], values='PTS', index='Year',columns='Tm', aggfunc=np.sum).fillna(0)\n",
    "# besttm.plot()"
   ]
  },
  {
   "cell_type": "code",
   "execution_count": 208,
   "metadata": {},
   "outputs": [
    {
     "data": {
      "application/vnd.plotly.v1+json": {
       "config": {
        "linkText": "Export to plot.ly",
        "plotlyServerURL": "https://plot.ly",
        "showLink": false
       },
       "data": [
        {
         "name": "Dallas Mavericks (DAL)",
         "type": "scatter",
         "x": [
          2001,
          2002,
          2003,
          2004,
          2005,
          2006,
          2007,
          2008,
          2009,
          2010,
          2011,
          2012,
          2013,
          2014,
          2015,
          2016,
          2017
         ],
         "y": [
          8239,
          8629,
          8444,
          8626,
          8405,
          8130,
          8201,
          8234,
          8343,
          8364,
          8220,
          6322,
          8293,
          8597,
          8628,
          8388,
          8029
         ]
        },
        {
         "name": "Denver Nuggets (DEN)",
         "type": "scatter",
         "x": [
          2001,
          2002,
          2003,
          2004,
          2005,
          2006,
          2007,
          2008,
          2009,
          2010,
          2011,
          2012,
          2013,
          2014,
          2015,
          2016,
          2017
         ],
         "y": [
          7918,
          7559,
          6901,
          7972,
          8161,
          8227,
          8639,
          9074,
          8555,
          8729,
          8811,
          6872,
          8704,
          8559,
          8320,
          8355,
          9161
         ]
        },
        {
         "name": "Golden State Warriors (GSW)",
         "type": "scatter",
         "x": [
          2001,
          2002,
          2003,
          2004,
          2005,
          2006,
          2007,
          2008,
          2009,
          2010,
          2011,
          2012,
          2013,
          2014,
          2015,
          2016,
          2017
         ],
         "y": [
          7584,
          8009,
          8400,
          7649,
          8094,
          8076,
          8737,
          9105,
          8905,
          8922,
          8477,
          6453,
          8296,
          8549,
          9016,
          9421,
          9503
         ]
        },
        {
         "name": "Phoenix Suns (PHO)",
         "type": "scatter",
         "x": [
          2001,
          2002,
          2003,
          2004,
          2005,
          2006,
          2007,
          2008,
          2009,
          2010,
          2011,
          2012,
          2013,
          2014,
          2015,
          2016,
          2017
         ],
         "y": [
          7710,
          7802,
          7834,
          7723,
          9054,
          8886,
          9037,
          9026,
          8974,
          9039,
          8611,
          6492,
          7805,
          8629,
          8397,
          8271,
          8831
         ]
        },
        {
         "name": "Sacramento Kings (SAC)",
         "type": "scatter",
         "x": [
          2001,
          2002,
          2003,
          2004,
          2005,
          2006,
          2007,
          2008,
          2009,
          2010,
          2011,
          2012,
          2013,
          2014,
          2015,
          2016,
          2017
         ],
         "y": [
          8343,
          8578,
          8342,
          8433,
          8505,
          8106,
          8303,
          8408,
          8248,
          8200,
          8151,
          6518,
          8219,
          8241,
          8310,
          8740,
          8430
         ]
        }
       ],
       "layout": {
        "template": {
         "data": {
          "bar": [
           {
            "error_x": {
             "color": "#2a3f5f"
            },
            "error_y": {
             "color": "#2a3f5f"
            },
            "marker": {
             "line": {
              "color": "#E5ECF6",
              "width": 0.5
             }
            },
            "type": "bar"
           }
          ],
          "barpolar": [
           {
            "marker": {
             "line": {
              "color": "#E5ECF6",
              "width": 0.5
             }
            },
            "type": "barpolar"
           }
          ],
          "carpet": [
           {
            "aaxis": {
             "endlinecolor": "#2a3f5f",
             "gridcolor": "white",
             "linecolor": "white",
             "minorgridcolor": "white",
             "startlinecolor": "#2a3f5f"
            },
            "baxis": {
             "endlinecolor": "#2a3f5f",
             "gridcolor": "white",
             "linecolor": "white",
             "minorgridcolor": "white",
             "startlinecolor": "#2a3f5f"
            },
            "type": "carpet"
           }
          ],
          "choropleth": [
           {
            "colorbar": {
             "outlinewidth": 0,
             "ticks": ""
            },
            "type": "choropleth"
           }
          ],
          "contour": [
           {
            "colorbar": {
             "outlinewidth": 0,
             "ticks": ""
            },
            "colorscale": [
             [
              0,
              "#0d0887"
             ],
             [
              0.1111111111111111,
              "#46039f"
             ],
             [
              0.2222222222222222,
              "#7201a8"
             ],
             [
              0.3333333333333333,
              "#9c179e"
             ],
             [
              0.4444444444444444,
              "#bd3786"
             ],
             [
              0.5555555555555556,
              "#d8576b"
             ],
             [
              0.6666666666666666,
              "#ed7953"
             ],
             [
              0.7777777777777778,
              "#fb9f3a"
             ],
             [
              0.8888888888888888,
              "#fdca26"
             ],
             [
              1,
              "#f0f921"
             ]
            ],
            "type": "contour"
           }
          ],
          "contourcarpet": [
           {
            "colorbar": {
             "outlinewidth": 0,
             "ticks": ""
            },
            "type": "contourcarpet"
           }
          ],
          "heatmap": [
           {
            "colorbar": {
             "outlinewidth": 0,
             "ticks": ""
            },
            "colorscale": [
             [
              0,
              "#0d0887"
             ],
             [
              0.1111111111111111,
              "#46039f"
             ],
             [
              0.2222222222222222,
              "#7201a8"
             ],
             [
              0.3333333333333333,
              "#9c179e"
             ],
             [
              0.4444444444444444,
              "#bd3786"
             ],
             [
              0.5555555555555556,
              "#d8576b"
             ],
             [
              0.6666666666666666,
              "#ed7953"
             ],
             [
              0.7777777777777778,
              "#fb9f3a"
             ],
             [
              0.8888888888888888,
              "#fdca26"
             ],
             [
              1,
              "#f0f921"
             ]
            ],
            "type": "heatmap"
           }
          ],
          "heatmapgl": [
           {
            "colorbar": {
             "outlinewidth": 0,
             "ticks": ""
            },
            "colorscale": [
             [
              0,
              "#0d0887"
             ],
             [
              0.1111111111111111,
              "#46039f"
             ],
             [
              0.2222222222222222,
              "#7201a8"
             ],
             [
              0.3333333333333333,
              "#9c179e"
             ],
             [
              0.4444444444444444,
              "#bd3786"
             ],
             [
              0.5555555555555556,
              "#d8576b"
             ],
             [
              0.6666666666666666,
              "#ed7953"
             ],
             [
              0.7777777777777778,
              "#fb9f3a"
             ],
             [
              0.8888888888888888,
              "#fdca26"
             ],
             [
              1,
              "#f0f921"
             ]
            ],
            "type": "heatmapgl"
           }
          ],
          "histogram": [
           {
            "marker": {
             "colorbar": {
              "outlinewidth": 0,
              "ticks": ""
             }
            },
            "type": "histogram"
           }
          ],
          "histogram2d": [
           {
            "colorbar": {
             "outlinewidth": 0,
             "ticks": ""
            },
            "colorscale": [
             [
              0,
              "#0d0887"
             ],
             [
              0.1111111111111111,
              "#46039f"
             ],
             [
              0.2222222222222222,
              "#7201a8"
             ],
             [
              0.3333333333333333,
              "#9c179e"
             ],
             [
              0.4444444444444444,
              "#bd3786"
             ],
             [
              0.5555555555555556,
              "#d8576b"
             ],
             [
              0.6666666666666666,
              "#ed7953"
             ],
             [
              0.7777777777777778,
              "#fb9f3a"
             ],
             [
              0.8888888888888888,
              "#fdca26"
             ],
             [
              1,
              "#f0f921"
             ]
            ],
            "type": "histogram2d"
           }
          ],
          "histogram2dcontour": [
           {
            "colorbar": {
             "outlinewidth": 0,
             "ticks": ""
            },
            "colorscale": [
             [
              0,
              "#0d0887"
             ],
             [
              0.1111111111111111,
              "#46039f"
             ],
             [
              0.2222222222222222,
              "#7201a8"
             ],
             [
              0.3333333333333333,
              "#9c179e"
             ],
             [
              0.4444444444444444,
              "#bd3786"
             ],
             [
              0.5555555555555556,
              "#d8576b"
             ],
             [
              0.6666666666666666,
              "#ed7953"
             ],
             [
              0.7777777777777778,
              "#fb9f3a"
             ],
             [
              0.8888888888888888,
              "#fdca26"
             ],
             [
              1,
              "#f0f921"
             ]
            ],
            "type": "histogram2dcontour"
           }
          ],
          "mesh3d": [
           {
            "colorbar": {
             "outlinewidth": 0,
             "ticks": ""
            },
            "type": "mesh3d"
           }
          ],
          "parcoords": [
           {
            "line": {
             "colorbar": {
              "outlinewidth": 0,
              "ticks": ""
             }
            },
            "type": "parcoords"
           }
          ],
          "scatter": [
           {
            "marker": {
             "colorbar": {
              "outlinewidth": 0,
              "ticks": ""
             }
            },
            "type": "scatter"
           }
          ],
          "scatter3d": [
           {
            "line": {
             "colorbar": {
              "outlinewidth": 0,
              "ticks": ""
             }
            },
            "marker": {
             "colorbar": {
              "outlinewidth": 0,
              "ticks": ""
             }
            },
            "type": "scatter3d"
           }
          ],
          "scattercarpet": [
           {
            "marker": {
             "colorbar": {
              "outlinewidth": 0,
              "ticks": ""
             }
            },
            "type": "scattercarpet"
           }
          ],
          "scattergeo": [
           {
            "marker": {
             "colorbar": {
              "outlinewidth": 0,
              "ticks": ""
             }
            },
            "type": "scattergeo"
           }
          ],
          "scattergl": [
           {
            "marker": {
             "colorbar": {
              "outlinewidth": 0,
              "ticks": ""
             }
            },
            "type": "scattergl"
           }
          ],
          "scattermapbox": [
           {
            "marker": {
             "colorbar": {
              "outlinewidth": 0,
              "ticks": ""
             }
            },
            "type": "scattermapbox"
           }
          ],
          "scatterpolar": [
           {
            "marker": {
             "colorbar": {
              "outlinewidth": 0,
              "ticks": ""
             }
            },
            "type": "scatterpolar"
           }
          ],
          "scatterpolargl": [
           {
            "marker": {
             "colorbar": {
              "outlinewidth": 0,
              "ticks": ""
             }
            },
            "type": "scatterpolargl"
           }
          ],
          "scatterternary": [
           {
            "marker": {
             "colorbar": {
              "outlinewidth": 0,
              "ticks": ""
             }
            },
            "type": "scatterternary"
           }
          ],
          "surface": [
           {
            "colorbar": {
             "outlinewidth": 0,
             "ticks": ""
            },
            "colorscale": [
             [
              0,
              "#0d0887"
             ],
             [
              0.1111111111111111,
              "#46039f"
             ],
             [
              0.2222222222222222,
              "#7201a8"
             ],
             [
              0.3333333333333333,
              "#9c179e"
             ],
             [
              0.4444444444444444,
              "#bd3786"
             ],
             [
              0.5555555555555556,
              "#d8576b"
             ],
             [
              0.6666666666666666,
              "#ed7953"
             ],
             [
              0.7777777777777778,
              "#fb9f3a"
             ],
             [
              0.8888888888888888,
              "#fdca26"
             ],
             [
              1,
              "#f0f921"
             ]
            ],
            "type": "surface"
           }
          ],
          "table": [
           {
            "cells": {
             "fill": {
              "color": "#EBF0F8"
             },
             "line": {
              "color": "white"
             }
            },
            "header": {
             "fill": {
              "color": "#C8D4E3"
             },
             "line": {
              "color": "white"
             }
            },
            "type": "table"
           }
          ]
         },
         "layout": {
          "annotationdefaults": {
           "arrowcolor": "#2a3f5f",
           "arrowhead": 0,
           "arrowwidth": 1
          },
          "colorscale": {
           "diverging": [
            [
             0,
             "#8e0152"
            ],
            [
             0.1,
             "#c51b7d"
            ],
            [
             0.2,
             "#de77ae"
            ],
            [
             0.3,
             "#f1b6da"
            ],
            [
             0.4,
             "#fde0ef"
            ],
            [
             0.5,
             "#f7f7f7"
            ],
            [
             0.6,
             "#e6f5d0"
            ],
            [
             0.7,
             "#b8e186"
            ],
            [
             0.8,
             "#7fbc41"
            ],
            [
             0.9,
             "#4d9221"
            ],
            [
             1,
             "#276419"
            ]
           ],
           "sequential": [
            [
             0,
             "#0d0887"
            ],
            [
             0.1111111111111111,
             "#46039f"
            ],
            [
             0.2222222222222222,
             "#7201a8"
            ],
            [
             0.3333333333333333,
             "#9c179e"
            ],
            [
             0.4444444444444444,
             "#bd3786"
            ],
            [
             0.5555555555555556,
             "#d8576b"
            ],
            [
             0.6666666666666666,
             "#ed7953"
            ],
            [
             0.7777777777777778,
             "#fb9f3a"
            ],
            [
             0.8888888888888888,
             "#fdca26"
            ],
            [
             1,
             "#f0f921"
            ]
           ],
           "sequentialminus": [
            [
             0,
             "#0d0887"
            ],
            [
             0.1111111111111111,
             "#46039f"
            ],
            [
             0.2222222222222222,
             "#7201a8"
            ],
            [
             0.3333333333333333,
             "#9c179e"
            ],
            [
             0.4444444444444444,
             "#bd3786"
            ],
            [
             0.5555555555555556,
             "#d8576b"
            ],
            [
             0.6666666666666666,
             "#ed7953"
            ],
            [
             0.7777777777777778,
             "#fb9f3a"
            ],
            [
             0.8888888888888888,
             "#fdca26"
            ],
            [
             1,
             "#f0f921"
            ]
           ]
          },
          "colorway": [
           "#636efa",
           "#EF553B",
           "#00cc96",
           "#ab63fa",
           "#FFA15A",
           "#19d3f3",
           "#FF6692",
           "#B6E880",
           "#FF97FF",
           "#FECB52"
          ],
          "font": {
           "color": "#2a3f5f"
          },
          "geo": {
           "bgcolor": "white",
           "lakecolor": "white",
           "landcolor": "#E5ECF6",
           "showlakes": true,
           "showland": true,
           "subunitcolor": "white"
          },
          "hoverlabel": {
           "align": "left"
          },
          "hovermode": "closest",
          "mapbox": {
           "style": "light"
          },
          "paper_bgcolor": "white",
          "plot_bgcolor": "#E5ECF6",
          "polar": {
           "angularaxis": {
            "gridcolor": "white",
            "linecolor": "white",
            "ticks": ""
           },
           "bgcolor": "#E5ECF6",
           "radialaxis": {
            "gridcolor": "white",
            "linecolor": "white",
            "ticks": ""
           }
          },
          "scene": {
           "xaxis": {
            "backgroundcolor": "#E5ECF6",
            "gridcolor": "white",
            "gridwidth": 2,
            "linecolor": "white",
            "showbackground": true,
            "ticks": "",
            "zerolinecolor": "white"
           },
           "yaxis": {
            "backgroundcolor": "#E5ECF6",
            "gridcolor": "white",
            "gridwidth": 2,
            "linecolor": "white",
            "showbackground": true,
            "ticks": "",
            "zerolinecolor": "white"
           },
           "zaxis": {
            "backgroundcolor": "#E5ECF6",
            "gridcolor": "white",
            "gridwidth": 2,
            "linecolor": "white",
            "showbackground": true,
            "ticks": "",
            "zerolinecolor": "white"
           }
          },
          "shapedefaults": {
           "line": {
            "color": "#2a3f5f"
           }
          },
          "ternary": {
           "aaxis": {
            "gridcolor": "white",
            "linecolor": "white",
            "ticks": ""
           },
           "baxis": {
            "gridcolor": "white",
            "linecolor": "white",
            "ticks": ""
           },
           "bgcolor": "#E5ECF6",
           "caxis": {
            "gridcolor": "white",
            "linecolor": "white",
            "ticks": ""
           }
          },
          "title": {
           "x": 0.05
          },
          "xaxis": {
           "automargin": true,
           "gridcolor": "white",
           "linecolor": "white",
           "ticks": "",
           "zerolinecolor": "white",
           "zerolinewidth": 2
          },
          "yaxis": {
           "automargin": true,
           "gridcolor": "white",
           "linecolor": "white",
           "ticks": "",
           "zerolinecolor": "white",
           "zerolinewidth": 2
          }
         }
        },
        "title": {
         "text": "TOP-5 statistics of points"
        }
       }
      },
      "text/html": [
       "<div>\n",
       "        \n",
       "        \n",
       "            <div id=\"3aac66f0-8675-4142-afa1-deb5be2ebc6a\" class=\"plotly-graph-div\" style=\"height:525px; width:100%;\"></div>\n",
       "            <script type=\"text/javascript\">\n",
       "                require([\"plotly\"], function(Plotly) {\n",
       "                    window.PLOTLYENV=window.PLOTLYENV || {};\n",
       "                    \n",
       "                if (document.getElementById(\"3aac66f0-8675-4142-afa1-deb5be2ebc6a\")) {\n",
       "                    Plotly.newPlot(\n",
       "                        '3aac66f0-8675-4142-afa1-deb5be2ebc6a',\n",
       "                        [{\"name\": \"Dallas Mavericks (DAL)\", \"type\": \"scatter\", \"x\": [2001.0, 2002.0, 2003.0, 2004.0, 2005.0, 2006.0, 2007.0, 2008.0, 2009.0, 2010.0, 2011.0, 2012.0, 2013.0, 2014.0, 2015.0, 2016.0, 2017.0], \"y\": [8239.0, 8629.0, 8444.0, 8626.0, 8405.0, 8130.0, 8201.0, 8234.0, 8343.0, 8364.0, 8220.0, 6322.0, 8293.0, 8597.0, 8628.0, 8388.0, 8029.0]}, {\"name\": \"Denver Nuggets (DEN)\", \"type\": \"scatter\", \"x\": [2001.0, 2002.0, 2003.0, 2004.0, 2005.0, 2006.0, 2007.0, 2008.0, 2009.0, 2010.0, 2011.0, 2012.0, 2013.0, 2014.0, 2015.0, 2016.0, 2017.0], \"y\": [7918.0, 7559.0, 6901.0, 7972.0, 8161.0, 8227.0, 8639.0, 9074.0, 8555.0, 8729.0, 8811.0, 6872.0, 8704.0, 8559.0, 8320.0, 8355.0, 9161.0]}, {\"name\": \"Golden State Warriors (GSW)\", \"type\": \"scatter\", \"x\": [2001.0, 2002.0, 2003.0, 2004.0, 2005.0, 2006.0, 2007.0, 2008.0, 2009.0, 2010.0, 2011.0, 2012.0, 2013.0, 2014.0, 2015.0, 2016.0, 2017.0], \"y\": [7584.0, 8009.0, 8400.0, 7649.0, 8094.0, 8076.0, 8737.0, 9105.0, 8905.0, 8922.0, 8477.0, 6453.0, 8296.0, 8549.0, 9016.0, 9421.0, 9503.0]}, {\"name\": \"Phoenix Suns (PHO)\", \"type\": \"scatter\", \"x\": [2001.0, 2002.0, 2003.0, 2004.0, 2005.0, 2006.0, 2007.0, 2008.0, 2009.0, 2010.0, 2011.0, 2012.0, 2013.0, 2014.0, 2015.0, 2016.0, 2017.0], \"y\": [7710.0, 7802.0, 7834.0, 7723.0, 9054.0, 8886.0, 9037.0, 9026.0, 8974.0, 9039.0, 8611.0, 6492.0, 7805.0, 8629.0, 8397.0, 8271.0, 8831.0]}, {\"name\": \"Sacramento Kings (SAC)\", \"type\": \"scatter\", \"x\": [2001.0, 2002.0, 2003.0, 2004.0, 2005.0, 2006.0, 2007.0, 2008.0, 2009.0, 2010.0, 2011.0, 2012.0, 2013.0, 2014.0, 2015.0, 2016.0, 2017.0], \"y\": [8343.0, 8578.0, 8342.0, 8433.0, 8505.0, 8106.0, 8303.0, 8408.0, 8248.0, 8200.0, 8151.0, 6518.0, 8219.0, 8241.0, 8310.0, 8740.0, 8430.0]}],\n",
       "                        {\"template\": {\"data\": {\"bar\": [{\"error_x\": {\"color\": \"#2a3f5f\"}, \"error_y\": {\"color\": \"#2a3f5f\"}, \"marker\": {\"line\": {\"color\": \"#E5ECF6\", \"width\": 0.5}}, \"type\": \"bar\"}], \"barpolar\": [{\"marker\": {\"line\": {\"color\": \"#E5ECF6\", \"width\": 0.5}}, \"type\": \"barpolar\"}], \"carpet\": [{\"aaxis\": {\"endlinecolor\": \"#2a3f5f\", \"gridcolor\": \"white\", \"linecolor\": \"white\", \"minorgridcolor\": \"white\", \"startlinecolor\": \"#2a3f5f\"}, \"baxis\": {\"endlinecolor\": \"#2a3f5f\", \"gridcolor\": \"white\", \"linecolor\": \"white\", \"minorgridcolor\": \"white\", \"startlinecolor\": \"#2a3f5f\"}, \"type\": \"carpet\"}], \"choropleth\": [{\"colorbar\": {\"outlinewidth\": 0, \"ticks\": \"\"}, \"type\": \"choropleth\"}], \"contour\": [{\"colorbar\": {\"outlinewidth\": 0, \"ticks\": \"\"}, \"colorscale\": [[0.0, \"#0d0887\"], [0.1111111111111111, \"#46039f\"], [0.2222222222222222, \"#7201a8\"], [0.3333333333333333, \"#9c179e\"], [0.4444444444444444, \"#bd3786\"], [0.5555555555555556, \"#d8576b\"], [0.6666666666666666, \"#ed7953\"], [0.7777777777777778, \"#fb9f3a\"], [0.8888888888888888, \"#fdca26\"], [1.0, \"#f0f921\"]], \"type\": \"contour\"}], \"contourcarpet\": [{\"colorbar\": {\"outlinewidth\": 0, \"ticks\": \"\"}, \"type\": \"contourcarpet\"}], \"heatmap\": [{\"colorbar\": {\"outlinewidth\": 0, \"ticks\": \"\"}, \"colorscale\": [[0.0, \"#0d0887\"], [0.1111111111111111, \"#46039f\"], [0.2222222222222222, \"#7201a8\"], [0.3333333333333333, \"#9c179e\"], [0.4444444444444444, \"#bd3786\"], [0.5555555555555556, \"#d8576b\"], [0.6666666666666666, \"#ed7953\"], [0.7777777777777778, \"#fb9f3a\"], [0.8888888888888888, \"#fdca26\"], [1.0, \"#f0f921\"]], \"type\": \"heatmap\"}], \"heatmapgl\": [{\"colorbar\": {\"outlinewidth\": 0, \"ticks\": \"\"}, \"colorscale\": [[0.0, \"#0d0887\"], [0.1111111111111111, \"#46039f\"], [0.2222222222222222, \"#7201a8\"], [0.3333333333333333, \"#9c179e\"], [0.4444444444444444, \"#bd3786\"], [0.5555555555555556, \"#d8576b\"], [0.6666666666666666, \"#ed7953\"], [0.7777777777777778, \"#fb9f3a\"], [0.8888888888888888, \"#fdca26\"], [1.0, \"#f0f921\"]], \"type\": \"heatmapgl\"}], \"histogram\": [{\"marker\": {\"colorbar\": {\"outlinewidth\": 0, \"ticks\": \"\"}}, \"type\": \"histogram\"}], \"histogram2d\": [{\"colorbar\": {\"outlinewidth\": 0, \"ticks\": \"\"}, \"colorscale\": [[0.0, \"#0d0887\"], [0.1111111111111111, \"#46039f\"], [0.2222222222222222, \"#7201a8\"], [0.3333333333333333, \"#9c179e\"], [0.4444444444444444, \"#bd3786\"], [0.5555555555555556, \"#d8576b\"], [0.6666666666666666, \"#ed7953\"], [0.7777777777777778, \"#fb9f3a\"], [0.8888888888888888, \"#fdca26\"], [1.0, \"#f0f921\"]], \"type\": \"histogram2d\"}], \"histogram2dcontour\": [{\"colorbar\": {\"outlinewidth\": 0, \"ticks\": \"\"}, \"colorscale\": [[0.0, \"#0d0887\"], [0.1111111111111111, \"#46039f\"], [0.2222222222222222, \"#7201a8\"], [0.3333333333333333, \"#9c179e\"], [0.4444444444444444, \"#bd3786\"], [0.5555555555555556, \"#d8576b\"], [0.6666666666666666, \"#ed7953\"], [0.7777777777777778, \"#fb9f3a\"], [0.8888888888888888, \"#fdca26\"], [1.0, \"#f0f921\"]], \"type\": \"histogram2dcontour\"}], \"mesh3d\": [{\"colorbar\": {\"outlinewidth\": 0, \"ticks\": \"\"}, \"type\": \"mesh3d\"}], \"parcoords\": [{\"line\": {\"colorbar\": {\"outlinewidth\": 0, \"ticks\": \"\"}}, \"type\": \"parcoords\"}], \"scatter\": [{\"marker\": {\"colorbar\": {\"outlinewidth\": 0, \"ticks\": \"\"}}, \"type\": \"scatter\"}], \"scatter3d\": [{\"line\": {\"colorbar\": {\"outlinewidth\": 0, \"ticks\": \"\"}}, \"marker\": {\"colorbar\": {\"outlinewidth\": 0, \"ticks\": \"\"}}, \"type\": \"scatter3d\"}], \"scattercarpet\": [{\"marker\": {\"colorbar\": {\"outlinewidth\": 0, \"ticks\": \"\"}}, \"type\": \"scattercarpet\"}], \"scattergeo\": [{\"marker\": {\"colorbar\": {\"outlinewidth\": 0, \"ticks\": \"\"}}, \"type\": \"scattergeo\"}], \"scattergl\": [{\"marker\": {\"colorbar\": {\"outlinewidth\": 0, \"ticks\": \"\"}}, \"type\": \"scattergl\"}], \"scattermapbox\": [{\"marker\": {\"colorbar\": {\"outlinewidth\": 0, \"ticks\": \"\"}}, \"type\": \"scattermapbox\"}], \"scatterpolar\": [{\"marker\": {\"colorbar\": {\"outlinewidth\": 0, \"ticks\": \"\"}}, \"type\": \"scatterpolar\"}], \"scatterpolargl\": [{\"marker\": {\"colorbar\": {\"outlinewidth\": 0, \"ticks\": \"\"}}, \"type\": \"scatterpolargl\"}], \"scatterternary\": [{\"marker\": {\"colorbar\": {\"outlinewidth\": 0, \"ticks\": \"\"}}, \"type\": \"scatterternary\"}], \"surface\": [{\"colorbar\": {\"outlinewidth\": 0, \"ticks\": \"\"}, \"colorscale\": [[0.0, \"#0d0887\"], [0.1111111111111111, \"#46039f\"], [0.2222222222222222, \"#7201a8\"], [0.3333333333333333, \"#9c179e\"], [0.4444444444444444, \"#bd3786\"], [0.5555555555555556, \"#d8576b\"], [0.6666666666666666, \"#ed7953\"], [0.7777777777777778, \"#fb9f3a\"], [0.8888888888888888, \"#fdca26\"], [1.0, \"#f0f921\"]], \"type\": \"surface\"}], \"table\": [{\"cells\": {\"fill\": {\"color\": \"#EBF0F8\"}, \"line\": {\"color\": \"white\"}}, \"header\": {\"fill\": {\"color\": \"#C8D4E3\"}, \"line\": {\"color\": \"white\"}}, \"type\": \"table\"}]}, \"layout\": {\"annotationdefaults\": {\"arrowcolor\": \"#2a3f5f\", \"arrowhead\": 0, \"arrowwidth\": 1}, \"colorscale\": {\"diverging\": [[0, \"#8e0152\"], [0.1, \"#c51b7d\"], [0.2, \"#de77ae\"], [0.3, \"#f1b6da\"], [0.4, \"#fde0ef\"], [0.5, \"#f7f7f7\"], [0.6, \"#e6f5d0\"], [0.7, \"#b8e186\"], [0.8, \"#7fbc41\"], [0.9, \"#4d9221\"], [1, \"#276419\"]], \"sequential\": [[0.0, \"#0d0887\"], [0.1111111111111111, \"#46039f\"], [0.2222222222222222, \"#7201a8\"], [0.3333333333333333, \"#9c179e\"], [0.4444444444444444, \"#bd3786\"], [0.5555555555555556, \"#d8576b\"], [0.6666666666666666, \"#ed7953\"], [0.7777777777777778, \"#fb9f3a\"], [0.8888888888888888, \"#fdca26\"], [1.0, \"#f0f921\"]], \"sequentialminus\": [[0.0, \"#0d0887\"], [0.1111111111111111, \"#46039f\"], [0.2222222222222222, \"#7201a8\"], [0.3333333333333333, \"#9c179e\"], [0.4444444444444444, \"#bd3786\"], [0.5555555555555556, \"#d8576b\"], [0.6666666666666666, \"#ed7953\"], [0.7777777777777778, \"#fb9f3a\"], [0.8888888888888888, \"#fdca26\"], [1.0, \"#f0f921\"]]}, \"colorway\": [\"#636efa\", \"#EF553B\", \"#00cc96\", \"#ab63fa\", \"#FFA15A\", \"#19d3f3\", \"#FF6692\", \"#B6E880\", \"#FF97FF\", \"#FECB52\"], \"font\": {\"color\": \"#2a3f5f\"}, \"geo\": {\"bgcolor\": \"white\", \"lakecolor\": \"white\", \"landcolor\": \"#E5ECF6\", \"showlakes\": true, \"showland\": true, \"subunitcolor\": \"white\"}, \"hoverlabel\": {\"align\": \"left\"}, \"hovermode\": \"closest\", \"mapbox\": {\"style\": \"light\"}, \"paper_bgcolor\": \"white\", \"plot_bgcolor\": \"#E5ECF6\", \"polar\": {\"angularaxis\": {\"gridcolor\": \"white\", \"linecolor\": \"white\", \"ticks\": \"\"}, \"bgcolor\": \"#E5ECF6\", \"radialaxis\": {\"gridcolor\": \"white\", \"linecolor\": \"white\", \"ticks\": \"\"}}, \"scene\": {\"xaxis\": {\"backgroundcolor\": \"#E5ECF6\", \"gridcolor\": \"white\", \"gridwidth\": 2, \"linecolor\": \"white\", \"showbackground\": true, \"ticks\": \"\", \"zerolinecolor\": \"white\"}, \"yaxis\": {\"backgroundcolor\": \"#E5ECF6\", \"gridcolor\": \"white\", \"gridwidth\": 2, \"linecolor\": \"white\", \"showbackground\": true, \"ticks\": \"\", \"zerolinecolor\": \"white\"}, \"zaxis\": {\"backgroundcolor\": \"#E5ECF6\", \"gridcolor\": \"white\", \"gridwidth\": 2, \"linecolor\": \"white\", \"showbackground\": true, \"ticks\": \"\", \"zerolinecolor\": \"white\"}}, \"shapedefaults\": {\"line\": {\"color\": \"#2a3f5f\"}}, \"ternary\": {\"aaxis\": {\"gridcolor\": \"white\", \"linecolor\": \"white\", \"ticks\": \"\"}, \"baxis\": {\"gridcolor\": \"white\", \"linecolor\": \"white\", \"ticks\": \"\"}, \"bgcolor\": \"#E5ECF6\", \"caxis\": {\"gridcolor\": \"white\", \"linecolor\": \"white\", \"ticks\": \"\"}}, \"title\": {\"x\": 0.05}, \"xaxis\": {\"automargin\": true, \"gridcolor\": \"white\", \"linecolor\": \"white\", \"ticks\": \"\", \"zerolinecolor\": \"white\", \"zerolinewidth\": 2}, \"yaxis\": {\"automargin\": true, \"gridcolor\": \"white\", \"linecolor\": \"white\", \"ticks\": \"\", \"zerolinecolor\": \"white\", \"zerolinewidth\": 2}}}, \"title\": {\"text\": \"TOP-5 statistics of points\"}},\n",
       "                        {\"responsive\": true}\n",
       "                    ).then(function(){\n",
       "                            \n",
       "var gd = document.getElementById('3aac66f0-8675-4142-afa1-deb5be2ebc6a');\n",
       "var x = new MutationObserver(function (mutations, observer) {{\n",
       "        var display = window.getComputedStyle(gd).display;\n",
       "        if (!display || display === 'none') {{\n",
       "            console.log([gd, 'removed!']);\n",
       "            Plotly.purge(gd);\n",
       "            observer.disconnect();\n",
       "        }}\n",
       "}});\n",
       "\n",
       "// Listen for the removal of the full notebook cells\n",
       "var notebookContainer = gd.closest('#notebook-container');\n",
       "if (notebookContainer) {{\n",
       "    x.observe(notebookContainer, {childList: true});\n",
       "}}\n",
       "\n",
       "// Listen for the clearing of the current output cell\n",
       "var outputEl = gd.closest('.output');\n",
       "if (outputEl) {{\n",
       "    x.observe(outputEl, {childList: true});\n",
       "}}\n",
       "\n",
       "                        })\n",
       "                };\n",
       "                });\n",
       "            </script>\n",
       "        </div>"
      ]
     },
     "metadata": {},
     "output_type": "display_data"
    }
   ],
   "source": [
    "trace0 = go.Scatter(\n",
    "    x=besttm.index,\n",
    "    y=besttm['DAL'],\n",
    "    name='Dallas Mavericks (DAL)'\n",
    ")\n",
    "\n",
    "trace1 = go.Scatter(\n",
    "    x=besttm.index,\n",
    "    y=besttm['DEN'],\n",
    "    name='Denver Nuggets (DEN)'\n",
    ")\n",
    "\n",
    "trace2 = go.Scatter(\n",
    "    x=besttm.index,\n",
    "    y=besttm['GSW'],\n",
    "    name='Golden State Warriors (GSW)'\n",
    ")\n",
    "\n",
    "trace3 = go.Scatter(\n",
    "    x=besttm.index,\n",
    "    y=besttm['PHO'],\n",
    "    name='Phoenix Suns (PHO)'\n",
    ")\n",
    "\n",
    "trace4 = go.Scatter(\n",
    "    x=besttm.index,\n",
    "    y=besttm['SAC'],\n",
    "    name='Sacramento Kings (SAC)'\n",
    ")\n",
    "\n",
    "data = [trace0, trace1, trace2, trace3, trace4]\n",
    "layout = {'title': 'TOP-5 statistics of points'}\n",
    "\n",
    "fig = go.Figure(data=data, layout=layout)\n",
    "\n",
    "iplot(fig, show_link=False)"
   ]
  },
  {
   "cell_type": "markdown",
   "metadata": {},
   "source": [
    "### График 5\n",
    "Проверим гипотезу, что Golden State Warriors (GSW) в последние годы забивает гораздо больше своих оппонетов за счет ставки на 3х-очковые броски. На тепловом графике видно явное лидерство Golden State Warriors по забитым 3ч-очковым броскам за последние 5 лет, при этом количество забитых 2ч-очковых бросков сохраняется на уровне с остальными командами."
   ]
  },
  {
   "cell_type": "code",
   "execution_count": 209,
   "metadata": {
    "collapsed": true
   },
   "outputs": [
    {
     "name": "stderr",
     "output_type": "stream",
     "text": [
      "D:\\Program Files\\Anaconda3\\lib\\site-packages\\ipykernel_launcher.py:1: UserWarning:\n",
      "\n",
      "Boolean Series key will be reindexed to match DataFrame index.\n",
      "\n",
      "D:\\Program Files\\Anaconda3\\lib\\site-packages\\ipykernel_launcher.py:2: UserWarning:\n",
      "\n",
      "Boolean Series key will be reindexed to match DataFrame index.\n",
      "\n",
      "D:\\Program Files\\Anaconda3\\lib\\site-packages\\ipykernel_launcher.py:5: UserWarning:\n",
      "\n",
      "Boolean Series key will be reindexed to match DataFrame index.\n",
      "\n"
     ]
    }
   ],
   "source": [
    "besttmt = stats[stats['Tm']!='TOT'][stats['Year']>2000].groupby(['Tm'])[['PTS']].sum().sort_values('PTS', ascending=False).head(5)\n",
    "pivtab1 = pd.pivot_table(stats[stats['Tm'].isin(besttmt.index)][stats['Year']>2007], \n",
    "                        values='3P', index='Year',columns='Tm', \n",
    "                        aggfunc=np.mean).fillna(0)\n",
    "pivtab2 = pd.pivot_table(stats[stats['Tm'].isin(besttmt.index)][stats['Year']>2007], \n",
    "                        values='2P', index='Year',columns='Tm', \n",
    "                        aggfunc=np.mean).fillna(0)"
   ]
  },
  {
   "cell_type": "code",
   "execution_count": 211,
   "metadata": {},
   "outputs": [
    {
     "data": {
      "image/png": "[encoded data removed]",
      "text/plain": [
       "<Figure size 864x216 with 4 Axes>"
      ]
     },
     "metadata": {
      "needs_background": "light"
     },
     "output_type": "display_data"
    }
   ],
   "source": [
    "plt.figure(figsize=(12, 3))\n",
    "plt.subplot(1, 2, 1)\n",
    "htm1 = sns.heatmap(pivtab1, cmap=\"YlGn\")\n",
    "htm1.set_title('3Points in season')\n",
    "# g.fig.set_size_inches(15,15)\n",
    "plt.subplot(1, 2, 2)\n",
    "htm2 = sns.heatmap(pivtab2, cmap=\"YlGn\")\n",
    "htm2.set_title('2Points in season')\n",
    "plt.show()"
   ]
  }
 ],
 "metadata": {
  "kernelspec": {
   "display_name": "Python 3",
   "language": "python",
   "name": "python3"
  },
  "language_info": {
   "codemirror_mode": {
    "name": "ipython",
    "version": 3
   },
   "file_extension": ".py",
   "mimetype": "text/x-python",
   "name": "python",
   "nbconvert_exporter": "python",
   "pygments_lexer": "ipython3",
   "version": "3.7.3"
  }
 },
 "nbformat": 4,
 "nbformat_minor": 2
}
