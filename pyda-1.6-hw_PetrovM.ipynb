{
 "cells": [
  {
   "cell_type": "markdown",
   "metadata": {},
   "source": [
    "## Задание 1"
   ]
  },
  {
   "cell_type": "markdown",
   "metadata": {},
   "source": [
    "Скачайте с сайта https://grouplens.org/datasets/movielens/ датасет любого размера. Определите какому фильму было выставлено больше всего оценок 5.0."
   ]
  },
  {
   "cell_type": "code",
   "execution_count": 3,
   "metadata": {},
   "outputs": [],
   "source": [
    "import pandas as pd\n",
    "import numpy as np"
   ]
  },
  {
   "cell_type": "code",
   "execution_count": 60,
   "metadata": {},
   "outputs": [
    {
     "name": "stderr",
     "output_type": "stream",
     "text": [
      "D:\\Program Files\\Anaconda3\\lib\\site-packages\\ipykernel_launcher.py:1: ParserWarning: Falling back to the 'python' engine because the 'c' engine does not support regex separators (separators > 1 char and different from '\\s+' are interpreted as regex); you can avoid this warning by specifying engine='python'.\n",
      "  \"\"\"Entry point for launching an IPython kernel.\n"
     ]
    },
    {
     "data": {
      "text/html": [
       "<div>\n",
       "<style scoped>\n",
       "    .dataframe tbody tr th:only-of-type {\n",
       "        vertical-align: middle;\n",
       "    }\n",
       "\n",
       "    .dataframe tbody tr th {\n",
       "        vertical-align: top;\n",
       "    }\n",
       "\n",
       "    .dataframe thead th {\n",
       "        text-align: right;\n",
       "    }\n",
       "</style>\n",
       "<table border=\"1\" class=\"dataframe\">\n",
       "  <thead>\n",
       "    <tr style=\"text-align: right;\">\n",
       "      <th></th>\n",
       "      <th>userId</th>\n",
       "      <th>movieId</th>\n",
       "      <th>rating</th>\n",
       "      <th>timestamp</th>\n",
       "    </tr>\n",
       "  </thead>\n",
       "  <tbody>\n",
       "    <tr>\n",
       "      <th>0</th>\n",
       "      <td>1</td>\n",
       "      <td>1193</td>\n",
       "      <td>5</td>\n",
       "      <td>978300760</td>\n",
       "    </tr>\n",
       "    <tr>\n",
       "      <th>1</th>\n",
       "      <td>1</td>\n",
       "      <td>661</td>\n",
       "      <td>3</td>\n",
       "      <td>978302109</td>\n",
       "    </tr>\n",
       "    <tr>\n",
       "      <th>2</th>\n",
       "      <td>1</td>\n",
       "      <td>914</td>\n",
       "      <td>3</td>\n",
       "      <td>978301968</td>\n",
       "    </tr>\n",
       "    <tr>\n",
       "      <th>3</th>\n",
       "      <td>1</td>\n",
       "      <td>3408</td>\n",
       "      <td>4</td>\n",
       "      <td>978300275</td>\n",
       "    </tr>\n",
       "    <tr>\n",
       "      <th>4</th>\n",
       "      <td>1</td>\n",
       "      <td>2355</td>\n",
       "      <td>5</td>\n",
       "      <td>978824291</td>\n",
       "    </tr>\n",
       "  </tbody>\n",
       "</table>\n",
       "</div>"
      ],
      "text/plain": [
       "   userId  movieId  rating  timestamp\n",
       "0       1     1193       5  978300760\n",
       "1       1      661       3  978302109\n",
       "2       1      914       3  978301968\n",
       "3       1     3408       4  978300275\n",
       "4       1     2355       5  978824291"
      ]
     },
     "execution_count": 60,
     "metadata": {},
     "output_type": "execute_result"
    }
   ],
   "source": [
    "ratings = pd.read_csv('ratings.dat', names = ['userId', 'movieId', 'rating', 'timestamp'], sep = '\\s+', delimiter=\"::\")\n",
    "ratings.head()"
   ]
  },
  {
   "cell_type": "code",
   "execution_count": 59,
   "metadata": {},
   "outputs": [
    {
     "name": "stderr",
     "output_type": "stream",
     "text": [
      "D:\\Program Files\\Anaconda3\\lib\\site-packages\\ipykernel_launcher.py:1: ParserWarning: Falling back to the 'python' engine because the 'c' engine does not support regex separators (separators > 1 char and different from '\\s+' are interpreted as regex); you can avoid this warning by specifying engine='python'.\n",
      "  \"\"\"Entry point for launching an IPython kernel.\n"
     ]
    },
    {
     "data": {
      "text/html": [
       "<div>\n",
       "<style scoped>\n",
       "    .dataframe tbody tr th:only-of-type {\n",
       "        vertical-align: middle;\n",
       "    }\n",
       "\n",
       "    .dataframe tbody tr th {\n",
       "        vertical-align: top;\n",
       "    }\n",
       "\n",
       "    .dataframe thead th {\n",
       "        text-align: right;\n",
       "    }\n",
       "</style>\n",
       "<table border=\"1\" class=\"dataframe\">\n",
       "  <thead>\n",
       "    <tr style=\"text-align: right;\">\n",
       "      <th></th>\n",
       "      <th>movieId</th>\n",
       "      <th>title</th>\n",
       "      <th>genres</th>\n",
       "    </tr>\n",
       "  </thead>\n",
       "  <tbody>\n",
       "    <tr>\n",
       "      <th>0</th>\n",
       "      <td>1</td>\n",
       "      <td>Toy Story (1995)</td>\n",
       "      <td>Animation|Children's|Comedy</td>\n",
       "    </tr>\n",
       "    <tr>\n",
       "      <th>1</th>\n",
       "      <td>2</td>\n",
       "      <td>Jumanji (1995)</td>\n",
       "      <td>Adventure|Children's|Fantasy</td>\n",
       "    </tr>\n",
       "    <tr>\n",
       "      <th>2</th>\n",
       "      <td>3</td>\n",
       "      <td>Grumpier Old Men (1995)</td>\n",
       "      <td>Comedy|Romance</td>\n",
       "    </tr>\n",
       "    <tr>\n",
       "      <th>3</th>\n",
       "      <td>4</td>\n",
       "      <td>Waiting to Exhale (1995)</td>\n",
       "      <td>Comedy|Drama</td>\n",
       "    </tr>\n",
       "    <tr>\n",
       "      <th>4</th>\n",
       "      <td>5</td>\n",
       "      <td>Father of the Bride Part II (1995)</td>\n",
       "      <td>Comedy</td>\n",
       "    </tr>\n",
       "  </tbody>\n",
       "</table>\n",
       "</div>"
      ],
      "text/plain": [
       "   movieId                               title                        genres\n",
       "0        1                    Toy Story (1995)   Animation|Children's|Comedy\n",
       "1        2                      Jumanji (1995)  Adventure|Children's|Fantasy\n",
       "2        3             Grumpier Old Men (1995)                Comedy|Romance\n",
       "3        4            Waiting to Exhale (1995)                  Comedy|Drama\n",
       "4        5  Father of the Bride Part II (1995)                        Comedy"
      ]
     },
     "execution_count": 59,
     "metadata": {},
     "output_type": "execute_result"
    }
   ],
   "source": [
    "movies = pd.read_csv('movies.dat', sep = '\\s+', names = ['movieId', 'title', 'genres'], delimiter=\"::\")\n",
    "movies.head()"
   ]
  },
  {
   "cell_type": "code",
   "execution_count": 86,
   "metadata": {},
   "outputs": [
    {
     "data": {
      "text/html": [
       "<div>\n",
       "<style scoped>\n",
       "    .dataframe tbody tr th:only-of-type {\n",
       "        vertical-align: middle;\n",
       "    }\n",
       "\n",
       "    .dataframe tbody tr th {\n",
       "        vertical-align: top;\n",
       "    }\n",
       "\n",
       "    .dataframe thead th {\n",
       "        text-align: right;\n",
       "    }\n",
       "</style>\n",
       "<table border=\"1\" class=\"dataframe\">\n",
       "  <thead>\n",
       "    <tr style=\"text-align: right;\">\n",
       "      <th></th>\n",
       "      <th>title</th>\n",
       "    </tr>\n",
       "  </thead>\n",
       "  <tbody>\n",
       "    <tr>\n",
       "      <th>0</th>\n",
       "      <td>American Beauty (1999)</td>\n",
       "    </tr>\n",
       "  </tbody>\n",
       "</table>\n",
       "</div>"
      ],
      "text/plain": [
       "                    title\n",
       "0  American Beauty (1999)"
      ]
     },
     "execution_count": 86,
     "metadata": {},
     "output_type": "execute_result"
    }
   ],
   "source": [
    "ratings[(ratings[('rating')])==5].groupby('movieId').count().sort_values('rating', ascending=False).head(1)\\\n",
    "    .merge(movies, on='movieId', how='left')[['title']]"
   ]
  },
  {
   "cell_type": "markdown",
   "metadata": {},
   "source": [
    "## Задание 2"
   ]
  },
  {
   "cell_type": "markdown",
   "metadata": {},
   "source": [
    "По данным файла power.csv посчитайте суммарное потребление стран Прибалтики (Латвия, Литва и Эстония) категорий 4, 12 и 21 за период с 2005 по 2010 года. Не учитывайте в расчетах отрицательные значения quantity."
   ]
  },
  {
   "cell_type": "code",
   "execution_count": 91,
   "metadata": {
    "scrolled": true
   },
   "outputs": [
    {
     "data": {
      "text/html": [
       "<div>\n",
       "<style scoped>\n",
       "    .dataframe tbody tr th:only-of-type {\n",
       "        vertical-align: middle;\n",
       "    }\n",
       "\n",
       "    .dataframe tbody tr th {\n",
       "        vertical-align: top;\n",
       "    }\n",
       "\n",
       "    .dataframe thead th {\n",
       "        text-align: right;\n",
       "    }\n",
       "</style>\n",
       "<table border=\"1\" class=\"dataframe\">\n",
       "  <thead>\n",
       "    <tr style=\"text-align: right;\">\n",
       "      <th></th>\n",
       "      <th>country</th>\n",
       "      <th>year</th>\n",
       "      <th>quantity</th>\n",
       "      <th>category</th>\n",
       "    </tr>\n",
       "  </thead>\n",
       "  <tbody>\n",
       "    <tr>\n",
       "      <th>0</th>\n",
       "      <td>Austria</td>\n",
       "      <td>1996</td>\n",
       "      <td>5.0</td>\n",
       "      <td>1</td>\n",
       "    </tr>\n",
       "    <tr>\n",
       "      <th>1</th>\n",
       "      <td>Austria</td>\n",
       "      <td>1995</td>\n",
       "      <td>17.0</td>\n",
       "      <td>1</td>\n",
       "    </tr>\n",
       "    <tr>\n",
       "      <th>2</th>\n",
       "      <td>Belgium</td>\n",
       "      <td>2014</td>\n",
       "      <td>0.0</td>\n",
       "      <td>1</td>\n",
       "    </tr>\n",
       "    <tr>\n",
       "      <th>3</th>\n",
       "      <td>Belgium</td>\n",
       "      <td>2013</td>\n",
       "      <td>0.0</td>\n",
       "      <td>1</td>\n",
       "    </tr>\n",
       "    <tr>\n",
       "      <th>4</th>\n",
       "      <td>Belgium</td>\n",
       "      <td>2012</td>\n",
       "      <td>35.0</td>\n",
       "      <td>1</td>\n",
       "    </tr>\n",
       "  </tbody>\n",
       "</table>\n",
       "</div>"
      ],
      "text/plain": [
       "   country  year  quantity  category\n",
       "0  Austria  1996       5.0         1\n",
       "1  Austria  1995      17.0         1\n",
       "2  Belgium  2014       0.0         1\n",
       "3  Belgium  2013       0.0         1\n",
       "4  Belgium  2012      35.0         1"
      ]
     },
     "execution_count": 91,
     "metadata": {},
     "output_type": "execute_result"
    }
   ],
   "source": [
    "power = pd.read_csv('power.csv')\n",
    "power.head()"
   ]
  },
  {
   "cell_type": "code",
   "execution_count": 123,
   "metadata": {
    "scrolled": true
   },
   "outputs": [
    {
     "data": {
      "text/plain": [
       "240580.0"
      ]
     },
     "execution_count": 123,
     "metadata": {},
     "output_type": "execute_result"
    }
   ],
   "source": [
    "sum_baltic = power[(power['country']=='Latvia') | (power['country']=='Estonia') | (power['country']=='Lithuania')]\\\n",
    "    .query('quantity>0 and (category==4 or category==12 or category==21)')\\\n",
    "    .loc[lambda power: (2005<=power.year)].loc[lambda power: (2010>=power.year)]\\\n",
    "    .filter(items = ['quantity']).sum()\n",
    "float(sum_baltic)"
   ]
  },
  {
   "cell_type": "markdown",
   "metadata": {},
   "source": [
    "## Задание 3"
   ]
  },
  {
   "cell_type": "markdown",
   "metadata": {},
   "source": [
    "Выберите страницу любого сайта с табличными данными. Импортируйте таблицы в pandas dataframe.  \n",
    "Примеры страниц (необязательно брать именно эти):   \n",
    "https://fortrader.org/quotes  \n",
    "https://www.finanz.ru/valyuty/v-realnom-vremeni  "
   ]
  },
  {
   "cell_type": "code",
   "execution_count": 136,
   "metadata": {},
   "outputs": [
    {
     "data": {
      "text/plain": [
       "[              0                        1      2\n",
       " 0  3.08 / 14:00            Урал - Ростов  2 : 2\n",
       " 1  3.08 / 16:30  Кр. Советов - Локомотив  1 : 2\n",
       " 2  3.08 / 19:00         Спартак - Динамо  0 : 0\n",
       " 3  3.08 / 21:30        Зенит - Краснодар  1 : 1\n",
       " 4  4.08 / 16:30         Тамбов - Арсенал  0 : 1\n",
       " 5  4.08 / 19:00             Рубин - ЦСКА  0 : 1\n",
       " 6  4.08 / 21:30               Сочи - Уфа  0 : 0\n",
       " 7  5.08 / 20:00         Ахмат - Оренбург  2 : 1,\n",
       "                0                     1      2\n",
       " 0  10.08 / 14:00     Оренбург - Тамбов  2 : 2\n",
       " 1  10.08 / 19:00     Краснодар - Рубин  1 : 0\n",
       " 2  10.08 / 19:00        Динамо - Зенит  0 : 2\n",
       " 3  11.08 / 14:00         Арсенал - Уфа  1 : 0\n",
       " 4  11.08 / 16:30      Локомотив - Урал  4 : 0\n",
       " 5  11.08 / 19:00           ЦСКА - Сочи  0 : 0\n",
       " 6  11.08 / 21:30       Ахмат - Спартак  1 : 3\n",
       " 7  12.08 / 20:00  Ростов - Кр. Советов  1 : 0,\n",
       "                0                   1      2\n",
       " 0  16.08 / 18:00     Оренбург - Сочи  1 : 1\n",
       " 1  17.08 / 14:00  Урал - Кр. Советов  1 : 3\n",
       " 2  17.08 / 16:30  Тамбов - Краснодар  0 : 2\n",
       " 3  17.08 / 19:00       Зенит - Ахмат  0 : 0\n",
       " 4  18.08 / 14:00     Рубин - Арсенал  1 : 0\n",
       " 5  18.08 / 16:30        Уфа - Ростов  2 : 0\n",
       " 6  18.08 / 19:00  Динамо - Локомотив  1 : 2\n",
       " 7  19.08 / 20:00      Спартак - ЦСКА  2 : 1,\n",
       "     Команды    Команды.1    И    В    Н    П   +/-     О\n",
       " 0       NaN          NaN  NaN  NaN  NaN  NaN   NaN   NaN\n",
       " 1       1.0        Зенит  6.0  4.0  2.0  0.0   9-2  14.0\n",
       " 2       2.0    Локомотив  6.0  4.0  1.0  1.0  11-5  13.0\n",
       " 3       3.0    Краснодар  6.0  4.0  1.0  1.0  10-4  13.0\n",
       " 4       4.0      Спартак  6.0  3.0  2.0  1.0   8-6  11.0\n",
       " 5       5.0       Ростов  6.0  3.0  2.0  1.0  10-9  11.0\n",
       " 6       6.0         ЦСКА  6.0  3.0  1.0  2.0   5-5  10.0\n",
       " 7       7.0        Рубин  6.0  3.0  1.0  2.0   4-3  10.0\n",
       " 8       8.0      Арсенал  6.0  3.0  1.0  2.0   8-7  10.0\n",
       " 9       9.0         Урал  6.0  2.0  1.0  3.0  9-13   7.0\n",
       " 10     10.0          Уфа  6.0  2.0  1.0  3.0   8-8   7.0\n",
       " 11     11.0        Ахмат  6.0  2.0  1.0  3.0   4-8   7.0\n",
       " 12     12.0  Кр. Советов  6.0  2.0  0.0  4.0   9-9   6.0\n",
       " 13     13.0       Динамо  6.0  1.0  2.0  3.0   4-6   5.0\n",
       " 14     14.0       Тамбов  6.0  1.0  1.0  4.0   6-9   4.0\n",
       " 15     15.0         Сочи  6.0  0.0  3.0  3.0   1-7   3.0\n",
       " 16     16.0     Оренбург  6.0  0.0  2.0  4.0  6-11   2.0,\n",
       "                0                      1      2\n",
       " 0  24.08 / 14:00        Тамбов - Динамо  – : –\n",
       " 1  24.08 / 16:30            Уфа - Зенит  – : –\n",
       " 2  24.08 / 19:00  Краснодар - Локомотив  – : –\n",
       " 3  25.08 / 16:30           ЦСКА - Ахмат  – : –\n",
       " 4  25.08 / 19:00         Ростов - Рубин  – : –\n",
       " 5  25.08 / 19:00  Кр. Советов - Спартак  – : –\n",
       " 6  25.08 / 21:30     Арсенал - Оренбург  – : –\n",
       " 7  26.08 / 18:00            Урал - Сочи  – : –,\n",
       "                0                     1      2\n",
       " 0  30.08 / 20:00  Кр. Советов - Динамо  – : –\n",
       " 1  31.08 / 11:30        Уфа - Оренбург  – : –\n",
       " 2  31.08 / 14:00          Рубин - Сочи  – : –\n",
       " 3  31.08 / 16:30    Локомотив - Ростов  – : –\n",
       " 4  31.08 / 19:00        Ахмат - Тамбов  – : –\n",
       " 5   1.09 / 14:00      Урал - Краснодар  – : –\n",
       " 6   1.09 / 16:30        Арсенал - ЦСКА  – : –\n",
       " 7   1.09 / 19:00       Спартак - Зенит  – : –,\n",
       "                0                        1      2\n",
       " 0  15.09 / 00:00          Зенит - Арсенал  – : –\n",
       " 1  15.09 / 00:00           Спартак - Урал  – : –\n",
       " 2  15.09 / 00:00           Ростов - Ахмат  – : –\n",
       " 3  15.09 / 00:00  Краснодар - Кр. Советов  – : –\n",
       " 4  15.09 / 00:00            Тамбов - ЦСКА  – : –\n",
       " 5  15.09 / 00:00             Динамо - Уфа  – : –\n",
       " 6  15.09 / 00:00         Сочи - Локомотив  – : –\n",
       " 7  15.09 / 00:00         Оренбург - Рубин  – : –]"
      ]
     },
     "execution_count": 136,
     "metadata": {},
     "output_type": "execute_result"
    }
   ],
   "source": [
    "data = pd.read_html('https://www.sport-express.ru/')\n",
    "data"
   ]
  }
 ],
 "metadata": {
  "kernelspec": {
   "display_name": "Python 3",
   "language": "python",
   "name": "python3"
  },
  "language_info": {
   "codemirror_mode": {
    "name": "ipython",
    "version": 3
   },
   "file_extension": ".py",
   "mimetype": "text/x-python",
   "name": "python",
   "nbconvert_exporter": "python",
   "pygments_lexer": "ipython3",
   "version": "3.7.3"
  }
 },
 "nbformat": 4,
 "nbformat_minor": 2
}
